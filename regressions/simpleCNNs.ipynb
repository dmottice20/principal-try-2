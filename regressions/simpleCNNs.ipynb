{
 "cells": [
  {
   "cell_type": "code",
   "execution_count": 1,
   "source": [
    "# Basic packages.\n",
    "import pandas as pd\n",
    "import numpy as np\n",
    "import tensorflow as tf\n",
    "import keras_tuner as kt\n",
    "tf.config.run_functions_eagerly(True)\n",
    "\n",
    "# Visualization packages.\n",
    "import seaborn as sns\n",
    "import matplotlib.pyplot as plt"
   ],
   "outputs": [],
   "metadata": {}
  },
  {
   "cell_type": "markdown",
   "source": [
    "# Transformation / PreProcessing Work"
   ],
   "metadata": {}
  },
  {
   "cell_type": "code",
   "execution_count": 2,
   "source": [
    "# Necessary variables for file exploration.\n",
    "DATA_DIR = 'data'\n",
    "TRANSFORMED_DIR = 'transformed'\n",
    "feature_file = 'transformed_features.csv'\n",
    "response_file = 'transformed_responses.csv'\n",
    "\n",
    "# Read in the data.\n",
    "feature_df = pd.read_csv('../{}/{}/{}'.format(DATA_DIR, TRANSFORMED_DIR, feature_file))\n",
    "response_df = pd.read_csv('../{}/{}/{}'.format(DATA_DIR, TRANSFORMED_DIR, response_file))\n",
    "feature_df.shape, response_df.shape\n",
    "\n",
    "# Convert date to str & set as index.\n",
    "feature_df['DATE'] = pd.to_datetime(feature_df['DATE'])\n",
    "feature_df.set_index('DATE', drop=True, inplace=True)\n",
    "response_df['Date'] = pd.to_datetime(response_df['Date'])\n",
    "response_df.set_index('Date', drop=True, inplace=True)\n",
    "\n",
    "# Normalize data frame.\n",
    "normalized_df = (feature_df - feature_df.mean()) / feature_df.std()"
   ],
   "outputs": [],
   "metadata": {}
  },
  {
   "cell_type": "code",
   "execution_count": 3,
   "source": [
    "# Perform a train-test split. Looking at the above data, let's train on all data prior to end of year 2005.\n",
    "# Test on all data from 2005 to end of year 2019\n",
    "# Keep beginning of 2020 through 2021 seperate for analysis and comparisons with other methods.\n",
    "dates = np.array(feature_df.index)\n",
    "# Add 1 to include December as a part of the train.\n",
    "training_ends = np.where(dates == pd.to_datetime(\"2009-12-01\"))[0][0] + 1\n",
    "test_ends = np.where(dates == pd.to_datetime(\"2019-12-01\"))[0][0] + 1\n",
    "X_train, X_test, X_analysis = feature_df.iloc[:training_ends, :], feature_df.iloc[training_ends:test_ends, :], feature_df.iloc[test_ends:, :]\n",
    "y_train, y_test, y_analysis = response_df.iloc[:training_ends, :], response_df.iloc[training_ends:test_ends, :], response_df.iloc[test_ends:, :]\n",
    "X_train.shape, X_test.shape, X_analysis.shape"
   ],
   "outputs": [
    {
     "output_type": "execute_result",
     "data": {
      "text/plain": [
       "((216, 58), (120, 58), (19, 58))"
      ]
     },
     "metadata": {},
     "execution_count": 3
    }
   ],
   "metadata": {}
  },
  {
   "cell_type": "code",
   "execution_count": 4,
   "source": [
    "##################\n",
    "# UNIVARIATE CNN #\n",
    "##################\n",
    "# split a univariate sequence into samples\n",
    "def split_sequence(sequence, n_steps):\n",
    "\tX, y = list(), list()\n",
    "\tfor i in range(len(sequence)):\n",
    "\t\t# find the end of this pattern\n",
    "\t\tend_ix = i + n_steps\n",
    "\t\t# check if we are beyond the sequence\n",
    "\t\tif end_ix > len(sequence)-1:\n",
    "\t\t\tbreak\n",
    "\t\t# gather input and output parts of the pattern\n",
    "\t\tseq_x, seq_y = sequence[i:end_ix], sequence[end_ix]\n",
    "\t\tX.append(seq_x)\n",
    "\t\ty.append(seq_y)\n",
    "\treturn np.array(X), np.array(y)\n",
    "\n",
    "def graphHistory(history, title):\n",
    "    \"\"\"\n",
    "    Function for graphing the training and valiedation accuracy and loss\n",
    "    ...\n",
    "    :param history - history object from keras desired to plot.\n",
    "    :param title - str that will be the title of the resulting plot.\n",
    "    \"\"\"\n",
    "    # summarize history for accuracy\n",
    "    fig, axes = plt.subplots(nrows=1, ncols=2, figsize=(12, 6))\n",
    "    axes[0].plot(history.history['accuracy'])\n",
    "    axes[0].plot(history.history['val_accuracy'])\n",
    "    #axes[0].title('Model Accuracy ' + title)\n",
    "    axes[0].set_ylabel('Accuracy')\n",
    "    axes[0].set_xlabel('Epoch')\n",
    "    axes[0].legend(['Tr. Acc', 'Val. Acc'])\n",
    "\n",
    "    # summarize history for loss\n",
    "    axes[1].plot(history.history['loss'])\n",
    "    axes[1].plot(history.history['val_loss'])\n",
    "    #axes[1].title('Model Loss ' + title)\n",
    "    axes[1].set_ylabel('Loss')\n",
    "    axes[1].set_xlabel('Epoch')\n",
    "    axes[1].legend(['Tr. Loss', 'Val. Loss'])\n",
    "    plt.title(title)\n",
    "    plt.tight_layout()\n",
    "    plt.show()"
   ],
   "outputs": [],
   "metadata": {}
  },
  {
   "cell_type": "code",
   "execution_count": 5,
   "source": [
    "X_train, y_train = split_sequence(y_train.values[:, 0], 12)\n",
    "X_test, y_test = split_sequence(y_test.values[:, 0], 12)\n",
    "X_train.shape, y_train.shape, X_test.shape, y_test.shape"
   ],
   "outputs": [
    {
     "output_type": "execute_result",
     "data": {
      "text/plain": [
       "((204, 12), (204,), (108, 12), (108,))"
      ]
     },
     "metadata": {},
     "execution_count": 5
    }
   ],
   "metadata": {}
  },
  {
   "cell_type": "code",
   "execution_count": 6,
   "source": [
    "# Reshape from (samples, timesteps) to (samples, timesteps, features)\n",
    "n_features = 1\n",
    "X_train = X_train.reshape((X_train.shape[0], X_train.shape[1], n_features))\n",
    "y_train = y_train.reshape((y_train.shape[0], 1, n_features))\n",
    "X_test = X_test.reshape((X_test.shape[0], X_test.shape[1], n_features))\n",
    "y_test = y_test.reshape((y_test.shape[0], 1, n_features))\n",
    "X_train.shape, y_train.shape, X_test.shape, y_test.shape"
   ],
   "outputs": [
    {
     "output_type": "execute_result",
     "data": {
      "text/plain": [
       "((204, 12, 1), (204, 1, 1), (108, 12, 1), (108, 1, 1))"
      ]
     },
     "metadata": {},
     "execution_count": 6
    }
   ],
   "metadata": {}
  },
  {
   "cell_type": "code",
   "execution_count": 7,
   "source": [
    "# CNN Model\n",
    "cnn_simple = tf.keras.models.Sequential(name=\"Simple CNN\")\n",
    "cnn_simple.add(tf.keras.layers.Conv1D(filters=64, kernel_size=2, activation='relu', input_shape=(12, 1)))\n",
    "cnn_simple.add(tf.keras.layers.Dropout(0.3))\n",
    "cnn_simple.add(tf.keras.layers.MaxPooling1D(pool_size=2))\n",
    "cnn_simple.add(tf.keras.layers.Flatten())\n",
    "cnn_simple.add(tf.keras.layers.Dense(32, activation='relu'))\n",
    "cnn_simple.add(tf.keras.layers.Dropout(0.2))\n",
    "cnn_simple.add(tf.keras.layers.Dense(1))\n",
    "cnn_simple.compile(optimizer=tf.keras.optimizers.Adam(learning_rate=0.005), loss='mse', metrics='accuracy')\n",
    "cnn_simple.summary()"
   ],
   "outputs": [
    {
     "output_type": "stream",
     "name": "stdout",
     "text": [
      "Model: \"Simple CNN\"\n",
      "_________________________________________________________________\n",
      "Layer (type)                 Output Shape              Param #   \n",
      "=================================================================\n",
      "conv1d (Conv1D)              (None, 11, 64)            192       \n",
      "_________________________________________________________________\n",
      "dropout (Dropout)            (None, 11, 64)            0         \n",
      "_________________________________________________________________\n",
      "max_pooling1d (MaxPooling1D) (None, 5, 64)             0         \n",
      "_________________________________________________________________\n",
      "flatten (Flatten)            (None, 320)               0         \n",
      "_________________________________________________________________\n",
      "dense (Dense)                (None, 32)                10272     \n",
      "_________________________________________________________________\n",
      "dropout_1 (Dropout)          (None, 32)                0         \n",
      "_________________________________________________________________\n",
      "dense_1 (Dense)              (None, 1)                 33        \n",
      "=================================================================\n",
      "Total params: 10,497\n",
      "Trainable params: 10,497\n",
      "Non-trainable params: 0\n",
      "_________________________________________________________________\n"
     ]
    },
    {
     "output_type": "stream",
     "name": "stderr",
     "text": [
      "2021-09-06 14:42:23.148498: I tensorflow/core/platform/cpu_feature_guard.cc:142] This TensorFlow binary is optimized with oneAPI Deep Neural Network Library (oneDNN) to use the following CPU instructions in performance-critical operations:  AVX2 FMA\n",
      "To enable them in other operations, rebuild TensorFlow with the appropriate compiler flags.\n"
     ]
    }
   ],
   "metadata": {}
  },
  {
   "cell_type": "code",
   "execution_count": 8,
   "source": [
    "history = cnn_simple.fit(X_train, y_train, epochs=100, validation_data=(X_test, y_test), shuffle=False)\n",
    "graphHistory(history, 'Simple CNN')"
   ],
   "outputs": [
    {
     "output_type": "stream",
     "name": "stderr",
     "text": [
      "/Users/davidmottice/Documents/AFIT/principal-try-2/project-env/lib/python3.8/site-packages/tensorflow/python/data/ops/dataset_ops.py:4211: UserWarning: Even though the `tf.config.experimental_run_functions_eagerly` option is set, this option does not apply to tf.data functions. To force eager execution of tf.data functions, please use `tf.data.experimental.enable_debug_mode()`.\n",
      "  warnings.warn(\n",
      "2021-09-06 14:42:23.333774: I tensorflow/compiler/mlir/mlir_graph_optimization_pass.cc:185] None of the MLIR Optimization Passes are enabled (registered 2)\n"
     ]
    },
    {
     "output_type": "stream",
     "name": "stdout",
     "text": [
      "Epoch 1/100\n",
      "7/7 [==============================] - 0s 18ms/step - loss: 19.4156 - accuracy: 0.0000e+00 - val_loss: 7.0370 - val_accuracy: 0.0000e+00\n",
      "Epoch 2/100\n",
      "7/7 [==============================] - 0s 15ms/step - loss: 17.8455 - accuracy: 0.0000e+00 - val_loss: 6.9541 - val_accuracy: 0.0000e+00\n",
      "Epoch 3/100\n",
      "7/7 [==============================] - 0s 14ms/step - loss: 16.8363 - accuracy: 0.0000e+00 - val_loss: 7.2076 - val_accuracy: 0.0000e+00\n",
      "Epoch 4/100\n",
      "7/7 [==============================] - 0s 14ms/step - loss: 15.4604 - accuracy: 0.0000e+00 - val_loss: 8.6538 - val_accuracy: 0.0000e+00\n",
      "Epoch 5/100\n",
      "7/7 [==============================] - 0s 14ms/step - loss: 15.4802 - accuracy: 0.0000e+00 - val_loss: 8.0279 - val_accuracy: 0.0000e+00\n",
      "Epoch 6/100\n",
      "7/7 [==============================] - 0s 14ms/step - loss: 16.0889 - accuracy: 0.0000e+00 - val_loss: 8.4725 - val_accuracy: 0.0000e+00\n",
      "Epoch 7/100\n",
      "7/7 [==============================] - 0s 14ms/step - loss: 14.6821 - accuracy: 0.0000e+00 - val_loss: 8.5606 - val_accuracy: 0.0000e+00\n",
      "Epoch 8/100\n",
      "7/7 [==============================] - 0s 14ms/step - loss: 12.5137 - accuracy: 0.0000e+00 - val_loss: 8.3413 - val_accuracy: 0.0000e+00\n",
      "Epoch 9/100\n",
      "7/7 [==============================] - 0s 13ms/step - loss: 13.2599 - accuracy: 0.0000e+00 - val_loss: 9.1793 - val_accuracy: 0.0000e+00\n",
      "Epoch 10/100\n",
      "7/7 [==============================] - 0s 14ms/step - loss: 13.5848 - accuracy: 0.0000e+00 - val_loss: 8.4689 - val_accuracy: 0.0000e+00\n",
      "Epoch 11/100\n",
      "7/7 [==============================] - 0s 13ms/step - loss: 11.3676 - accuracy: 0.0000e+00 - val_loss: 8.0098 - val_accuracy: 0.0000e+00\n",
      "Epoch 12/100\n",
      "7/7 [==============================] - 0s 14ms/step - loss: 12.3040 - accuracy: 0.0000e+00 - val_loss: 8.3643 - val_accuracy: 0.0000e+00\n",
      "Epoch 13/100\n",
      "7/7 [==============================] - 0s 13ms/step - loss: 10.3392 - accuracy: 0.0000e+00 - val_loss: 8.6969 - val_accuracy: 0.0000e+00\n",
      "Epoch 14/100\n",
      "7/7 [==============================] - 0s 13ms/step - loss: 10.2956 - accuracy: 0.0000e+00 - val_loss: 7.9190 - val_accuracy: 0.0000e+00\n",
      "Epoch 15/100\n",
      "7/7 [==============================] - 0s 12ms/step - loss: 11.0051 - accuracy: 0.0000e+00 - val_loss: 7.8824 - val_accuracy: 0.0000e+00\n",
      "Epoch 16/100\n",
      "7/7 [==============================] - 0s 12ms/step - loss: 9.9992 - accuracy: 0.0000e+00 - val_loss: 8.4220 - val_accuracy: 0.0000e+00\n",
      "Epoch 17/100\n",
      "7/7 [==============================] - 0s 13ms/step - loss: 10.8900 - accuracy: 0.0000e+00 - val_loss: 7.8812 - val_accuracy: 0.0000e+00\n",
      "Epoch 18/100\n",
      "7/7 [==============================] - 0s 12ms/step - loss: 9.8802 - accuracy: 0.0000e+00 - val_loss: 7.9347 - val_accuracy: 0.0000e+00\n",
      "Epoch 19/100\n",
      "7/7 [==============================] - 0s 13ms/step - loss: 8.8976 - accuracy: 0.0000e+00 - val_loss: 7.5495 - val_accuracy: 0.0000e+00\n",
      "Epoch 20/100\n",
      "7/7 [==============================] - 0s 13ms/step - loss: 8.6273 - accuracy: 0.0000e+00 - val_loss: 7.3940 - val_accuracy: 0.0000e+00\n",
      "Epoch 21/100\n",
      "7/7 [==============================] - 0s 13ms/step - loss: 9.1771 - accuracy: 0.0000e+00 - val_loss: 7.9735 - val_accuracy: 0.0000e+00\n",
      "Epoch 22/100\n",
      "7/7 [==============================] - 0s 13ms/step - loss: 10.6309 - accuracy: 0.0000e+00 - val_loss: 8.2504 - val_accuracy: 0.0000e+00\n",
      "Epoch 23/100\n",
      "7/7 [==============================] - 0s 12ms/step - loss: 8.9750 - accuracy: 0.0000e+00 - val_loss: 7.3171 - val_accuracy: 0.0000e+00\n",
      "Epoch 24/100\n",
      "7/7 [==============================] - 0s 12ms/step - loss: 10.9849 - accuracy: 0.0000e+00 - val_loss: 7.3502 - val_accuracy: 0.0000e+00\n",
      "Epoch 25/100\n",
      "7/7 [==============================] - 0s 13ms/step - loss: 9.5730 - accuracy: 0.0000e+00 - val_loss: 6.9325 - val_accuracy: 0.0000e+00\n",
      "Epoch 26/100\n",
      "7/7 [==============================] - 0s 12ms/step - loss: 10.1260 - accuracy: 0.0000e+00 - val_loss: 7.7611 - val_accuracy: 0.0000e+00\n",
      "Epoch 27/100\n",
      "7/7 [==============================] - 0s 13ms/step - loss: 8.8373 - accuracy: 0.0000e+00 - val_loss: 8.2975 - val_accuracy: 0.0000e+00\n",
      "Epoch 28/100\n",
      "7/7 [==============================] - 0s 13ms/step - loss: 10.8268 - accuracy: 0.0000e+00 - val_loss: 8.1030 - val_accuracy: 0.0000e+00\n",
      "Epoch 29/100\n",
      "7/7 [==============================] - 0s 13ms/step - loss: 8.9042 - accuracy: 0.0000e+00 - val_loss: 7.9213 - val_accuracy: 0.0000e+00\n",
      "Epoch 30/100\n",
      "7/7 [==============================] - 0s 12ms/step - loss: 7.6809 - accuracy: 0.0000e+00 - val_loss: 7.4614 - val_accuracy: 0.0000e+00\n",
      "Epoch 31/100\n",
      "7/7 [==============================] - 0s 12ms/step - loss: 8.4119 - accuracy: 0.0000e+00 - val_loss: 6.9814 - val_accuracy: 0.0000e+00\n",
      "Epoch 32/100\n",
      "7/7 [==============================] - 0s 12ms/step - loss: 8.2955 - accuracy: 0.0000e+00 - val_loss: 7.2555 - val_accuracy: 0.0000e+00\n",
      "Epoch 33/100\n",
      "7/7 [==============================] - 0s 13ms/step - loss: 7.8172 - accuracy: 0.0000e+00 - val_loss: 7.7511 - val_accuracy: 0.0000e+00\n",
      "Epoch 34/100\n",
      "7/7 [==============================] - 0s 13ms/step - loss: 8.7538 - accuracy: 0.0000e+00 - val_loss: 7.6414 - val_accuracy: 0.0000e+00\n",
      "Epoch 35/100\n",
      "7/7 [==============================] - 0s 13ms/step - loss: 8.5077 - accuracy: 0.0000e+00 - val_loss: 7.1536 - val_accuracy: 0.0000e+00\n",
      "Epoch 36/100\n",
      "7/7 [==============================] - 0s 13ms/step - loss: 7.3157 - accuracy: 0.0000e+00 - val_loss: 7.0745 - val_accuracy: 0.0000e+00\n",
      "Epoch 37/100\n",
      "7/7 [==============================] - 0s 12ms/step - loss: 7.2994 - accuracy: 0.0000e+00 - val_loss: 7.2662 - val_accuracy: 0.0000e+00\n",
      "Epoch 38/100\n",
      "7/7 [==============================] - 0s 12ms/step - loss: 6.7687 - accuracy: 0.0000e+00 - val_loss: 7.6248 - val_accuracy: 0.0000e+00\n",
      "Epoch 39/100\n",
      "7/7 [==============================] - 0s 12ms/step - loss: 7.4670 - accuracy: 0.0000e+00 - val_loss: 8.0871 - val_accuracy: 0.0000e+00\n",
      "Epoch 40/100\n",
      "7/7 [==============================] - 0s 13ms/step - loss: 7.5069 - accuracy: 0.0000e+00 - val_loss: 7.6908 - val_accuracy: 0.0000e+00\n",
      "Epoch 41/100\n",
      "7/7 [==============================] - 0s 13ms/step - loss: 8.0620 - accuracy: 0.0000e+00 - val_loss: 7.5233 - val_accuracy: 0.0000e+00\n",
      "Epoch 42/100\n",
      "7/7 [==============================] - 0s 12ms/step - loss: 6.7247 - accuracy: 0.0000e+00 - val_loss: 7.3244 - val_accuracy: 0.0000e+00\n",
      "Epoch 43/100\n",
      "7/7 [==============================] - 0s 12ms/step - loss: 6.6639 - accuracy: 0.0000e+00 - val_loss: 7.3374 - val_accuracy: 0.0000e+00\n",
      "Epoch 44/100\n",
      "7/7 [==============================] - 0s 12ms/step - loss: 6.6945 - accuracy: 0.0000e+00 - val_loss: 7.5773 - val_accuracy: 0.0000e+00\n",
      "Epoch 45/100\n",
      "7/7 [==============================] - 0s 12ms/step - loss: 7.1350 - accuracy: 0.0000e+00 - val_loss: 7.4547 - val_accuracy: 0.0000e+00\n",
      "Epoch 46/100\n",
      "7/7 [==============================] - 0s 13ms/step - loss: 6.7593 - accuracy: 0.0000e+00 - val_loss: 7.4130 - val_accuracy: 0.0000e+00\n",
      "Epoch 47/100\n",
      "7/7 [==============================] - 0s 13ms/step - loss: 6.6179 - accuracy: 0.0000e+00 - val_loss: 7.2924 - val_accuracy: 0.0000e+00\n",
      "Epoch 48/100\n",
      "7/7 [==============================] - 0s 12ms/step - loss: 6.8704 - accuracy: 0.0000e+00 - val_loss: 7.2895 - val_accuracy: 0.0000e+00\n",
      "Epoch 49/100\n",
      "7/7 [==============================] - 0s 12ms/step - loss: 6.9297 - accuracy: 0.0000e+00 - val_loss: 7.7032 - val_accuracy: 0.0000e+00\n",
      "Epoch 50/100\n",
      "7/7 [==============================] - 0s 14ms/step - loss: 6.4093 - accuracy: 0.0000e+00 - val_loss: 7.7504 - val_accuracy: 0.0000e+00\n",
      "Epoch 51/100\n",
      "7/7 [==============================] - 0s 14ms/step - loss: 8.4769 - accuracy: 0.0000e+00 - val_loss: 7.6748 - val_accuracy: 0.0000e+00\n",
      "Epoch 52/100\n",
      "7/7 [==============================] - 0s 14ms/step - loss: 7.5007 - accuracy: 0.0000e+00 - val_loss: 7.4450 - val_accuracy: 0.0000e+00\n",
      "Epoch 53/100\n",
      "7/7 [==============================] - 0s 13ms/step - loss: 6.9488 - accuracy: 0.0000e+00 - val_loss: 7.9147 - val_accuracy: 0.0000e+00\n",
      "Epoch 54/100\n",
      "7/7 [==============================] - 0s 12ms/step - loss: 6.9462 - accuracy: 0.0000e+00 - val_loss: 7.6201 - val_accuracy: 0.0000e+00\n",
      "Epoch 55/100\n",
      "7/7 [==============================] - 0s 13ms/step - loss: 7.7154 - accuracy: 0.0000e+00 - val_loss: 7.3375 - val_accuracy: 0.0000e+00\n",
      "Epoch 56/100\n",
      "7/7 [==============================] - 0s 12ms/step - loss: 7.6999 - accuracy: 0.0000e+00 - val_loss: 7.4185 - val_accuracy: 0.0000e+00\n",
      "Epoch 57/100\n",
      "7/7 [==============================] - 0s 12ms/step - loss: 9.2436 - accuracy: 0.0000e+00 - val_loss: 6.8749 - val_accuracy: 0.0000e+00\n",
      "Epoch 58/100\n",
      "7/7 [==============================] - 0s 12ms/step - loss: 7.0854 - accuracy: 0.0000e+00 - val_loss: 6.8234 - val_accuracy: 0.0000e+00\n",
      "Epoch 59/100\n",
      "7/7 [==============================] - 0s 12ms/step - loss: 7.5657 - accuracy: 0.0000e+00 - val_loss: 7.4679 - val_accuracy: 0.0000e+00\n",
      "Epoch 60/100\n",
      "7/7 [==============================] - 0s 13ms/step - loss: 6.9299 - accuracy: 0.0000e+00 - val_loss: 7.6729 - val_accuracy: 0.0000e+00\n",
      "Epoch 61/100\n",
      "7/7 [==============================] - 0s 12ms/step - loss: 7.1485 - accuracy: 0.0000e+00 - val_loss: 7.4958 - val_accuracy: 0.0000e+00\n",
      "Epoch 62/100\n",
      "7/7 [==============================] - 0s 14ms/step - loss: 6.6511 - accuracy: 0.0000e+00 - val_loss: 7.4950 - val_accuracy: 0.0000e+00\n",
      "Epoch 63/100\n",
      "7/7 [==============================] - 0s 13ms/step - loss: 6.3270 - accuracy: 0.0000e+00 - val_loss: 7.3661 - val_accuracy: 0.0000e+00\n",
      "Epoch 64/100\n",
      "7/7 [==============================] - 0s 12ms/step - loss: 7.0114 - accuracy: 0.0000e+00 - val_loss: 7.3510 - val_accuracy: 0.0000e+00\n",
      "Epoch 65/100\n",
      "7/7 [==============================] - 0s 12ms/step - loss: 5.5545 - accuracy: 0.0000e+00 - val_loss: 7.6824 - val_accuracy: 0.0000e+00\n",
      "Epoch 66/100\n",
      "7/7 [==============================] - 0s 13ms/step - loss: 6.3862 - accuracy: 0.0000e+00 - val_loss: 7.7565 - val_accuracy: 0.0000e+00\n",
      "Epoch 67/100\n",
      "7/7 [==============================] - 0s 13ms/step - loss: 6.5137 - accuracy: 0.0000e+00 - val_loss: 7.6571 - val_accuracy: 0.0000e+00\n",
      "Epoch 68/100\n",
      "7/7 [==============================] - 0s 13ms/step - loss: 5.7899 - accuracy: 0.0000e+00 - val_loss: 7.8285 - val_accuracy: 0.0000e+00\n",
      "Epoch 69/100\n",
      "7/7 [==============================] - 0s 12ms/step - loss: 6.0957 - accuracy: 0.0000e+00 - val_loss: 7.5835 - val_accuracy: 0.0000e+00\n",
      "Epoch 70/100\n",
      "7/7 [==============================] - 0s 12ms/step - loss: 5.5409 - accuracy: 0.0000e+00 - val_loss: 7.5317 - val_accuracy: 0.0000e+00\n",
      "Epoch 71/100\n",
      "7/7 [==============================] - 0s 12ms/step - loss: 8.0586 - accuracy: 0.0000e+00 - val_loss: 7.6790 - val_accuracy: 0.0000e+00\n",
      "Epoch 72/100\n",
      "7/7 [==============================] - 0s 13ms/step - loss: 7.2466 - accuracy: 0.0000e+00 - val_loss: 7.9962 - val_accuracy: 0.0000e+00\n",
      "Epoch 73/100\n",
      "7/7 [==============================] - 0s 13ms/step - loss: 6.1681 - accuracy: 0.0000e+00 - val_loss: 7.5184 - val_accuracy: 0.0000e+00\n",
      "Epoch 74/100\n",
      "7/7 [==============================] - 0s 13ms/step - loss: 5.6459 - accuracy: 0.0000e+00 - val_loss: 7.5254 - val_accuracy: 0.0000e+00\n",
      "Epoch 75/100\n",
      "7/7 [==============================] - 0s 12ms/step - loss: 5.2771 - accuracy: 0.0000e+00 - val_loss: 7.5714 - val_accuracy: 0.0000e+00\n",
      "Epoch 76/100\n",
      "7/7 [==============================] - 0s 12ms/step - loss: 6.2657 - accuracy: 0.0000e+00 - val_loss: 7.5797 - val_accuracy: 0.0000e+00\n",
      "Epoch 77/100\n",
      "7/7 [==============================] - 0s 12ms/step - loss: 5.4366 - accuracy: 0.0000e+00 - val_loss: 7.3428 - val_accuracy: 0.0000e+00\n",
      "Epoch 78/100\n",
      "7/7 [==============================] - 0s 12ms/step - loss: 6.2123 - accuracy: 0.0000e+00 - val_loss: 7.3734 - val_accuracy: 0.0000e+00\n",
      "Epoch 79/100\n",
      "7/7 [==============================] - 0s 13ms/step - loss: 5.6686 - accuracy: 0.0000e+00 - val_loss: 7.5336 - val_accuracy: 0.0000e+00\n",
      "Epoch 80/100\n",
      "7/7 [==============================] - 0s 13ms/step - loss: 5.4901 - accuracy: 0.0000e+00 - val_loss: 7.4064 - val_accuracy: 0.0000e+00\n",
      "Epoch 81/100\n",
      "7/7 [==============================] - 0s 13ms/step - loss: 6.4777 - accuracy: 0.0000e+00 - val_loss: 7.7179 - val_accuracy: 0.0000e+00\n",
      "Epoch 82/100\n",
      "7/7 [==============================] - 0s 12ms/step - loss: 5.7045 - accuracy: 0.0000e+00 - val_loss: 7.9595 - val_accuracy: 0.0000e+00\n",
      "Epoch 83/100\n",
      "7/7 [==============================] - 0s 12ms/step - loss: 6.1177 - accuracy: 0.0000e+00 - val_loss: 7.5319 - val_accuracy: 0.0000e+00\n",
      "Epoch 84/100\n",
      "7/7 [==============================] - 0s 13ms/step - loss: 5.5700 - accuracy: 0.0000e+00 - val_loss: 7.4502 - val_accuracy: 0.0000e+00\n",
      "Epoch 85/100\n",
      "7/7 [==============================] - 0s 12ms/step - loss: 5.7754 - accuracy: 0.0000e+00 - val_loss: 7.8088 - val_accuracy: 0.0000e+00\n",
      "Epoch 86/100\n",
      "7/7 [==============================] - 0s 13ms/step - loss: 5.3315 - accuracy: 0.0000e+00 - val_loss: 7.8705 - val_accuracy: 0.0000e+00\n",
      "Epoch 87/100\n",
      "7/7 [==============================] - 0s 12ms/step - loss: 5.8601 - accuracy: 0.0000e+00 - val_loss: 8.0411 - val_accuracy: 0.0000e+00\n",
      "Epoch 88/100\n",
      "7/7 [==============================] - 0s 12ms/step - loss: 4.6816 - accuracy: 0.0000e+00 - val_loss: 7.5510 - val_accuracy: 0.0000e+00\n",
      "Epoch 89/100\n",
      "7/7 [==============================] - 0s 13ms/step - loss: 5.7565 - accuracy: 0.0000e+00 - val_loss: 7.5739 - val_accuracy: 0.0000e+00\n",
      "Epoch 90/100\n",
      "7/7 [==============================] - 0s 12ms/step - loss: 6.6139 - accuracy: 0.0000e+00 - val_loss: 7.1867 - val_accuracy: 0.0000e+00\n",
      "Epoch 91/100\n",
      "7/7 [==============================] - 0s 14ms/step - loss: 6.4167 - accuracy: 0.0000e+00 - val_loss: 7.2142 - val_accuracy: 0.0000e+00\n",
      "Epoch 92/100\n",
      "7/7 [==============================] - 0s 13ms/step - loss: 6.8452 - accuracy: 0.0000e+00 - val_loss: 7.7693 - val_accuracy: 0.0000e+00\n",
      "Epoch 93/100\n",
      "7/7 [==============================] - 0s 13ms/step - loss: 6.0766 - accuracy: 0.0000e+00 - val_loss: 7.9224 - val_accuracy: 0.0000e+00\n",
      "Epoch 94/100\n",
      "7/7 [==============================] - 0s 13ms/step - loss: 6.2548 - accuracy: 0.0000e+00 - val_loss: 7.1998 - val_accuracy: 0.0000e+00\n",
      "Epoch 95/100\n",
      "7/7 [==============================] - 0s 12ms/step - loss: 5.5521 - accuracy: 0.0000e+00 - val_loss: 7.1690 - val_accuracy: 0.0000e+00\n",
      "Epoch 96/100\n",
      "7/7 [==============================] - 0s 12ms/step - loss: 6.6973 - accuracy: 0.0000e+00 - val_loss: 7.3197 - val_accuracy: 0.0000e+00\n",
      "Epoch 97/100\n",
      "7/7 [==============================] - 0s 12ms/step - loss: 5.5061 - accuracy: 0.0000e+00 - val_loss: 7.6282 - val_accuracy: 0.0000e+00\n",
      "Epoch 98/100\n",
      "7/7 [==============================] - 0s 13ms/step - loss: 5.5407 - accuracy: 0.0000e+00 - val_loss: 7.8392 - val_accuracy: 0.0000e+00\n",
      "Epoch 99/100\n",
      "7/7 [==============================] - 0s 12ms/step - loss: 6.2671 - accuracy: 0.0000e+00 - val_loss: 7.6594 - val_accuracy: 0.0000e+00\n",
      "Epoch 100/100\n",
      "7/7 [==============================] - 0s 12ms/step - loss: 5.6104 - accuracy: 0.0000e+00 - val_loss: 7.4413 - val_accuracy: 0.0000e+00\n"
     ]
    },
    {
     "output_type": "display_data",
     "data": {
      "image/png": "[encoded data removed]",
      "text/plain": [
       "<Figure size 864x432 with 2 Axes>"
      ]
     },
     "metadata": {
      "needs_background": "light"
     }
    }
   ],
   "metadata": {}
  },
  {
   "cell_type": "code",
   "execution_count": null,
   "source": [],
   "outputs": [],
   "metadata": {}
  }
 ],
 "metadata": {
  "orig_nbformat": 4,
  "language_info": {
   "name": "python",
   "version": "3.8.3",
   "mimetype": "text/x-python",
   "codemirror_mode": {
    "name": "ipython",
    "version": 3
   },
   "pygments_lexer": "ipython3",
   "nbconvert_exporter": "python",
   "file_extension": ".py"
  },
  "kernelspec": {
   "name": "python3",
   "display_name": "Python 3.8.3 64-bit ('project-env': venv)"
  },
  "interpreter": {
   "hash": "d13373dd3c7c2384c9c35d05f5096fd112f2e7fb5ec64c9f55217b2d4ec34c87"
  }
 },
 "nbformat": 4,
 "nbformat_minor": 2
}