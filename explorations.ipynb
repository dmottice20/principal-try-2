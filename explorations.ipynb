{
 "cells": [
  {
   "cell_type": "code",
   "execution_count": 1,
   "source": [
    "# Basic packages.\n",
    "import pandas as pd\n",
    "import numpy as np\n",
    "import tensorflow as tf\n",
    "\n",
    "# Visualization packages.\n",
    "import seaborn as sns\n",
    "import matplotlib.pyplot as plt\n",
    "\n",
    "# Keras backend\n",
    "from tensorflow.python.framework.ops import disable_eager_execution\n",
    "disable_eager_execution()\n",
    "from keras import backend as K\n",
    "sess = tf.compat.v1.Session()\n",
    "K.set_session(sess)"
   ],
   "outputs": [
    {
     "output_type": "stream",
     "name": "stderr",
     "text": [
      "2021-09-06 21:54:07.910138: I tensorflow/core/platform/cpu_feature_guard.cc:142] This TensorFlow binary is optimized with oneAPI Deep Neural Network Library (oneDNN) to use the following CPU instructions in performance-critical operations:  AVX2 FMA\n",
      "To enable them in other operations, rebuild TensorFlow with the appropriate compiler flags.\n"
     ]
    }
   ],
   "metadata": {}
  },
  {
   "cell_type": "code",
   "execution_count": 2,
   "source": [
    "# Necessary variables for file exploration.\n",
    "DATA_DIR = 'data'\n",
    "TRANSFORMED_DIR = 'transformed'\n",
    "feature_file = 'transformed_features.csv'\n",
    "response_file = 'transformed_responses.csv'\n",
    "\n",
    "# Read in the data.\n",
    "feature_df = pd.read_csv('{}/{}/{}'.format(DATA_DIR, TRANSFORMED_DIR, feature_file))\n",
    "response_df = pd.read_csv('{}/{}/{}'.format(DATA_DIR, TRANSFORMED_DIR, response_file))\n",
    "feature_df.shape, response_df.shape"
   ],
   "outputs": [
    {
     "output_type": "execute_result",
     "data": {
      "text/plain": [
       "((355, 59), (355, 45))"
      ]
     },
     "metadata": {},
     "execution_count": 2
    }
   ],
   "metadata": {}
  },
  {
   "cell_type": "code",
   "execution_count": 3,
   "source": [
    "# Convert date to str & set as index.\n",
    "feature_df['DATE'] = pd.to_datetime(feature_df['DATE'])\n",
    "feature_df.set_index('DATE', drop=True, inplace=True)\n",
    "response_df['Date'] = pd.to_datetime(response_df['Date'])\n",
    "response_df.set_index('Date', drop=True, inplace=True)"
   ],
   "outputs": [],
   "metadata": {}
  },
  {
   "cell_type": "code",
   "execution_count": 4,
   "source": [
    "response_df.shape"
   ],
   "outputs": [
    {
     "output_type": "execute_result",
     "data": {
      "text/plain": [
       "(355, 44)"
      ]
     },
     "metadata": {},
     "execution_count": 4
    }
   ],
   "metadata": {}
  },
  {
   "cell_type": "markdown",
   "source": [
    "# Look at the interactions of all 44 time series that could be possible responses"
   ],
   "metadata": {}
  },
  {
   "cell_type": "markdown",
   "source": [
    "### Variational Autoencoders"
   ],
   "metadata": {}
  },
  {
   "cell_type": "code",
   "execution_count": 11,
   "source": [
    "# Which columns are desired\n",
    "#print(feature_df.describe().transpose().to_latex())\n",
    "print(response_df.describe().transpose()[['count', 'mean', 'std', 'min','max']].to_latex())"
   ],
   "outputs": [
    {
     "output_type": "stream",
     "name": "stdout",
     "text": [
      "\\begin{tabular}{lrrrrr}\n",
      "\\toprule\n",
      "{} &  count &      mean &       std &    min &    max \\\\\n",
      "\\midrule\n",
      "US Stock Selection Value         &  355.0 &  0.145493 &  3.954556 & -17.99 &  26.86 \\\\\n",
      "US Stock Selection Momentum      &  355.0 &  0.478197 &  4.793791 & -34.62 &  17.01 \\\\\n",
      "US Stock Selection Defensive     &  355.0 &  0.825859 &  3.909319 & -15.67 &  15.36 \\\\\n",
      "US Stock Selection Multi-style   &  355.0 &  0.483493 &  2.116313 &  -9.39 &  12.96 \\\\\n",
      "Intl Stock Selection Value       &  355.0 &  0.376254 &  2.678681 & -15.41 &  15.10 \\\\\n",
      "Intl Stock Selection Momentum    &  355.0 &  0.759211 &  3.535081 & -23.41 &  11.14 \\\\\n",
      "Intl Stock Selection Defensive   &  355.0 &  0.919465 &  2.659838 &  -7.69 &  11.69 \\\\\n",
      "Intl Stock Selection Multi-style &  355.0 &  0.684958 &  1.456693 &  -4.93 &   7.95 \\\\\n",
      "Equity Indices Value             &  355.0 &  0.105521 &  2.349357 &  -7.78 &  11.56 \\\\\n",
      "Equity Indices Momentum          &  355.0 &  0.357521 &  3.014521 & -10.41 &   9.36 \\\\\n",
      "Equity Indices Carry             &  355.0 &  0.094394 &  2.795466 & -11.19 &  10.89 \\\\\n",
      "Equity Indices Defensive         &  355.0 &  0.110901 &  2.296301 &  -7.54 &   6.47 \\\\\n",
      "Equity Indices Multi-style       &  355.0 &  0.167296 &  1.271670 &  -5.16 &   4.16 \\\\\n",
      "Fixed Income Value               &  355.0 &  0.082169 &  1.032885 &  -5.64 &   3.28 \\\\\n",
      "Fixed Income Momentum            &  355.0 &  0.048845 &  1.178751 &  -3.76 &   5.93 \\\\\n",
      "Fixed Income Carry               &  355.0 &  0.109268 &  1.103086 &  -6.70 &   4.98 \\\\\n",
      "Fixed Income Defensive           &  355.0 &  0.017972 &  0.901891 &  -3.86 &   4.06 \\\\\n",
      "Fixed Income Multi-style         &  355.0 &  0.064676 &  0.481569 &  -2.22 &   2.08 \\\\\n",
      "Currencies Value                 &  355.0 &  0.305606 &  1.674382 &  -5.30 &   5.83 \\\\\n",
      "Currencies Momentum              &  355.0 &  0.034873 &  1.968350 &  -7.26 &   4.65 \\\\\n",
      "Currencies Carry                 &  355.0 &  0.268423 &  2.205973 & -10.53 &   9.68 \\\\\n",
      "Currencies Multi-style           &  355.0 &  0.203042 &  1.232037 &  -4.35 &   3.41 \\\\\n",
      "Commodities Value                &  355.0 &  0.596901 &  5.759543 & -18.49 &  23.96 \\\\\n",
      "Commodities Momentum             &  355.0 &  0.258000 &  5.505767 & -23.28 &  19.56 \\\\\n",
      "Commodities Carry                &  355.0 &  0.722817 &  4.422842 & -17.13 &  17.34 \\\\\n",
      "Commodities Multi-style          &  355.0 &  0.526113 &  2.509390 & -11.53 &   8.90 \\\\\n",
      "All Stock Selection Value        &  355.0 &  0.279437 &  2.930223 & -16.64 &  18.09 \\\\\n",
      "All Stock Selection Momentum     &  355.0 &  0.657493 &  3.861779 & -27.87 &  13.97 \\\\\n",
      "All Stock Selection Defensive    &  355.0 &  0.884394 &  2.677149 &  -7.61 &  11.84 \\\\\n",
      "All Stock Selection Multi-style  &  355.0 &  0.609324 &  1.550951 &  -5.07 &   9.57 \\\\\n",
      "All Maco Value                   &  355.0 &  0.165521 &  0.895444 &  -2.61 &   2.78 \\\\\n",
      "All Macro Momentum               &  355.0 &  0.123831 &  1.223046 &  -3.26 &   3.58 \\\\\n",
      "All Maco Carry                   &  355.0 &  0.192056 &  1.020982 &  -3.79 &   3.48 \\\\\n",
      "All Macro Defensive              &  355.0 &  0.038366 &  0.808641 &  -2.84 &   3.81 \\\\\n",
      "All Macro Multi-style            &  355.0 &  0.144169 &  0.486302 &  -1.43 &   1.93 \\\\\n",
      "All asset classes Value          &  355.0 &  0.148676 &  1.047252 &  -3.98 &   6.87 \\\\\n",
      "All asset classes Momentum       &  355.0 &  0.258056 &  1.484274 &  -8.03 &   4.85 \\\\\n",
      "All asset classes Carry          &  355.0 &  0.192056 &  1.020982 &  -3.79 &   3.48 \\\\\n",
      "All asset classes Defensive      &  355.0 &  0.307549 &  1.017884 &  -3.89 &   3.15 \\\\\n",
      "All asset classes Multi-Style    &  355.0 &  0.240225 &  0.489428 &  -1.30 &   2.06 \\\\\n",
      "Equity Indices Market            &  355.0 &  0.602930 &  4.231744 & -17.21 &  13.82 \\\\\n",
      "Fixed Income Market              &  355.0 &  0.300732 &  1.270981 &  -3.08 &   4.66 \\\\\n",
      "Commodities Market               &  355.0 &  0.252423 &  3.852182 & -20.94 &  13.42 \\\\\n",
      "All Macro Market                 &  355.0 &  0.253742 &  1.224129 &  -6.40 &   3.20 \\\\\n",
      "\\bottomrule\n",
      "\\end{tabular}\n",
      "\n"
     ]
    }
   ],
   "metadata": {}
  },
  {
   "cell_type": "markdown",
   "source": [
    "Looking at the above, let's throw in all of the values and use a variational autoencoder to explore dimensionality reduction."
   ],
   "metadata": {}
  },
  {
   "cell_type": "code",
   "execution_count": 5,
   "source": [
    "# Split into X_train and X_test (also y_train and y_test just in case)\n",
    "# 80/20 split.\n",
    "idx = round(feature_df.shape[0] * 0.8)\n",
    "X_train, X_test = feature_df.iloc[:idx], feature_df.iloc[idx:]\n",
    "y_train, y_test = response_df.iloc[:idx], response_df.iloc[idx:]\n",
    "y_train.shape, y_test.shape"
   ],
   "outputs": [
    {
     "output_type": "execute_result",
     "data": {
      "text/plain": [
       "((284, 44), (71, 44))"
      ]
     },
     "metadata": {},
     "execution_count": 5
    }
   ],
   "metadata": {}
  },
  {
   "cell_type": "code",
   "execution_count": 6,
   "source": [
    "# Set up network parameters\n",
    "original_dim = y_train.shape[1]\n",
    "input_shape = (original_dim, )\n",
    "# Size of the intermediate dense layer for encoder and decoder.\n",
    "intermediate_dim = 30\n",
    "# Size of batch...\n",
    "batch_size = 24\n",
    "# Size of the latent dimension in encoder -- start w/ 2\n",
    "latent_dim = 2\n",
    "epochs = 100"
   ],
   "outputs": [],
   "metadata": {}
  },
  {
   "cell_type": "code",
   "execution_count": 7,
   "source": [
    "# VAE = encoder + decoder\n",
    "# 1/ Build encoder model.\n",
    "inputs = tf.keras.layers.Input(shape=input_shape, name=\"encoder-input\")\n",
    "x = tf.keras.layers.Dense(intermediate_dim, activation=\"relu\")(inputs)\n",
    "z_mean = tf.keras.layers.Dense(latent_dim, name=\"z-mean\")(x)\n",
    "z_log_var = tf.keras.layers.Dense(latent_dim, name=\"z-log-var\")(x)"
   ],
   "outputs": [],
   "metadata": {}
  },
  {
   "cell_type": "code",
   "execution_count": 8,
   "source": [
    "def sampling(args):\n",
    "    \"\"\"Reparameterization trick by sampling from an isotropic unit Gaussian.\n",
    "    # Arguments\n",
    "        args (tensor): mean and log of variance of Q(z|X)\n",
    "    # Returns\n",
    "        z (tensor): sampled latent vector\n",
    "    \"\"\"\n",
    "\n",
    "    z_mean, z_log_var = args\n",
    "    batch = K.shape(z_mean)[0]\n",
    "    dim = K.int_shape(z_mean)[1]\n",
    "    # by default, random_normal has mean = 0 and std = 1.0\n",
    "    epsilon = K.random_normal(shape=(batch, dim))\n",
    "    return z_mean + K.exp(0.5 * z_log_var) * epsilon\n",
    "\n",
    "z = tf.keras.layers.Lambda(sampling, output_shape=(latent_dim,), name='z')([z_mean, z_log_var])"
   ],
   "outputs": [],
   "metadata": {}
  },
  {
   "cell_type": "code",
   "execution_count": 9,
   "source": [
    "# Instantiate Encoder model.\n",
    "encoder = tf.keras.Model(inputs, z_mean)\n",
    "encoder.summary()"
   ],
   "outputs": [
    {
     "output_type": "stream",
     "name": "stdout",
     "text": [
      "Model: \"model\"\n",
      "_________________________________________________________________\n",
      "Layer (type)                 Output Shape              Param #   \n",
      "=================================================================\n",
      "encoder-input (InputLayer)   [(None, 44)]              0         \n",
      "_________________________________________________________________\n",
      "dense (Dense)                (None, 30)                1350      \n",
      "_________________________________________________________________\n",
      "z-mean (Dense)               (None, 2)                 62        \n",
      "=================================================================\n",
      "Total params: 1,412\n",
      "Trainable params: 1,412\n",
      "Non-trainable params: 0\n",
      "_________________________________________________________________\n"
     ]
    }
   ],
   "metadata": {}
  },
  {
   "cell_type": "code",
   "execution_count": 10,
   "source": [
    "# Build the decoder model.\n",
    "latent_inputs = tf.keras.layers.Input(shape=(latent_dim, ), name='z_sampling')\n",
    "x = tf.keras.layers.Dense(intermediate_dim, activation='relu')(latent_inputs)\n",
    "outputs = tf.keras.layers.Dense(original_dim, activation='sigmoid')(x)\n",
    "\n",
    "# Instnatiate the decoder model.\n",
    "decoder = tf.keras.Model(latent_inputs, outputs, name='decoder')\n",
    "decoder.summary()"
   ],
   "outputs": [
    {
     "output_type": "stream",
     "name": "stdout",
     "text": [
      "Model: \"decoder\"\n",
      "_________________________________________________________________\n",
      "Layer (type)                 Output Shape              Param #   \n",
      "=================================================================\n",
      "z_sampling (InputLayer)      [(None, 2)]               0         \n",
      "_________________________________________________________________\n",
      "dense_1 (Dense)              (None, 30)                90        \n",
      "_________________________________________________________________\n",
      "dense_2 (Dense)              (None, 44)                1364      \n",
      "=================================================================\n",
      "Total params: 1,454\n",
      "Trainable params: 1,454\n",
      "Non-trainable params: 0\n",
      "_________________________________________________________________\n"
     ]
    }
   ],
   "metadata": {}
  },
  {
   "cell_type": "code",
   "execution_count": 11,
   "source": [
    "# Instnatiate VAE model.\n",
    "outputs = decoder(encoder(inputs))\n",
    "vae = tf.keras.Model(inputs, outputs, name=\"vae-mlp\")"
   ],
   "outputs": [],
   "metadata": {}
  },
  {
   "cell_type": "code",
   "execution_count": 12,
   "source": [
    "def vae_loss(x, x_decoded_mean):\n",
    "    xent_loss = tf.keras.losses.binary_crossentropy(x, x_decoded_mean)\n",
    "    kl_loss = - 0.5 * K.mean(1 + z_log_var - K.square(z_mean) - K.exp(z_log_var), axis=-1)\n",
    "    return xent_loss + kl_loss"
   ],
   "outputs": [],
   "metadata": {}
  },
  {
   "cell_type": "code",
   "execution_count": 13,
   "source": [
    "# Compile the model.\n",
    "vae.compile(optimizer='rmsprop', loss=tf.keras.losses.KLD)"
   ],
   "outputs": [],
   "metadata": {}
  },
  {
   "cell_type": "code",
   "execution_count": 15,
   "source": [
    "# Train the model.\n",
    "results = vae.fit(y_train, y_train, shuffle=True, epochs=epochs, batch_size=batch_size, validation_data=(y_test, y_test))"
   ],
   "outputs": [
    {
     "output_type": "stream",
     "name": "stdout",
     "text": [
      "Train on 284 samples, validate on 71 samples\n",
      "Epoch 1/100\n",
      "284/284 [==============================] - 0s 783us/sample - loss: 10.3068 - val_loss: 6.2938\n",
      "Epoch 2/100\n",
      "284/284 [==============================] - 0s 41us/sample - loss: 8.2746 - val_loss: 4.7824\n",
      "Epoch 3/100\n",
      "284/284 [==============================] - 0s 38us/sample - loss: 5.8580 - val_loss: 3.1363\n",
      "Epoch 4/100\n",
      "284/284 [==============================] - 0s 41us/sample - loss: 3.5266 - val_loss: 1.6285\n",
      "Epoch 5/100\n",
      "284/284 [==============================] - 0s 39us/sample - loss: 1.6173 - val_loss: 0.4048\n",
      "Epoch 6/100\n",
      "284/284 [==============================] - 0s 37us/sample - loss: 0.1596 - val_loss: -0.5938\n",
      "Epoch 7/100\n",
      "284/284 [==============================] - 0s 37us/sample - loss: -0.9164 - val_loss: -1.3729\n",
      "Epoch 8/100\n",
      "284/284 [==============================] - 0s 47us/sample - loss: -1.6967 - val_loss: -1.9757\n",
      "Epoch 9/100\n",
      "284/284 [==============================] - 0s 36us/sample - loss: -2.2548 - val_loss: -2.4266\n",
      "Epoch 10/100\n",
      "284/284 [==============================] - 0s 43us/sample - loss: -2.6294 - val_loss: -2.7337\n",
      "Epoch 11/100\n",
      "284/284 [==============================] - 0s 43us/sample - loss: -2.8530 - val_loss: -2.9428\n",
      "Epoch 12/100\n",
      "284/284 [==============================] - 0s 40us/sample - loss: -2.9919 - val_loss: -3.0888\n",
      "Epoch 13/100\n",
      "284/284 [==============================] - 0s 41us/sample - loss: -3.0800 - val_loss: -3.1894\n",
      "Epoch 14/100\n",
      "284/284 [==============================] - 0s 43us/sample - loss: -3.1352 - val_loss: -3.2563\n",
      "Epoch 15/100\n",
      "284/284 [==============================] - 0s 40us/sample - loss: -3.1677 - val_loss: -3.2979\n",
      "Epoch 16/100\n",
      " 24/284 [=>............................] - ETA: 0s - loss: -3.0247"
     ]
    },
    {
     "output_type": "stream",
     "name": "stderr",
     "text": [
      "/Users/davidmottice/Documents/AFIT/principal-try-2/project-env/lib/python3.8/site-packages/keras/engine/training.py:2470: UserWarning: `Model.state_updates` will be removed in a future version. This property should not be used in TensorFlow 2.0, as `updates` are applied automatically.\n",
      "  warnings.warn('`Model.state_updates` will be removed in a future version. '\n"
     ]
    },
    {
     "output_type": "stream",
     "name": "stdout",
     "text": [
      "284/284 [==============================] - 0s 44us/sample - loss: -3.1874 - val_loss: -3.3266\n",
      "Epoch 17/100\n",
      "284/284 [==============================] - 0s 36us/sample - loss: -3.1998 - val_loss: -3.3465\n",
      "Epoch 18/100\n",
      "284/284 [==============================] - 0s 36us/sample - loss: -3.2077 - val_loss: -3.3606\n",
      "Epoch 19/100\n",
      "284/284 [==============================] - 0s 46us/sample - loss: -3.2127 - val_loss: -3.3713\n",
      "Epoch 20/100\n",
      "284/284 [==============================] - 0s 40us/sample - loss: -3.2159 - val_loss: -3.3786\n",
      "Epoch 21/100\n",
      "284/284 [==============================] - 0s 36us/sample - loss: -3.2179 - val_loss: -3.3835\n",
      "Epoch 22/100\n",
      "284/284 [==============================] - 0s 44us/sample - loss: -3.2189 - val_loss: -3.3874\n",
      "Epoch 23/100\n",
      "284/284 [==============================] - 0s 42us/sample - loss: -3.2196 - val_loss: -3.3904\n",
      "Epoch 24/100\n",
      "284/284 [==============================] - 0s 40us/sample - loss: -3.2201 - val_loss: -3.3926\n",
      "Epoch 25/100\n",
      "284/284 [==============================] - 0s 40us/sample - loss: -3.2204 - val_loss: -3.3941\n",
      "Epoch 26/100\n",
      "284/284 [==============================] - 0s 38us/sample - loss: -3.2206 - val_loss: -3.3955\n",
      "Epoch 27/100\n",
      "284/284 [==============================] - 0s 36us/sample - loss: -3.2207 - val_loss: -3.3964\n",
      "Epoch 28/100\n",
      "284/284 [==============================] - 0s 37us/sample - loss: -3.2208 - val_loss: -3.3971\n",
      "Epoch 29/100\n",
      "284/284 [==============================] - 0s 38us/sample - loss: -3.2208 - val_loss: -3.3977\n",
      "Epoch 30/100\n",
      "284/284 [==============================] - 0s 45us/sample - loss: -3.2209 - val_loss: -3.3981\n",
      "Epoch 31/100\n",
      "284/284 [==============================] - 0s 47us/sample - loss: -3.2209 - val_loss: -3.3984\n",
      "Epoch 32/100\n",
      "284/284 [==============================] - 0s 44us/sample - loss: -3.2209 - val_loss: -3.3987\n",
      "Epoch 33/100\n",
      "284/284 [==============================] - 0s 44us/sample - loss: -3.2209 - val_loss: -3.3988\n",
      "Epoch 34/100\n",
      "284/284 [==============================] - 0s 40us/sample - loss: -3.2209 - val_loss: -3.3990\n",
      "Epoch 35/100\n",
      "284/284 [==============================] - 0s 46us/sample - loss: -3.2209 - val_loss: -3.3990\n",
      "Epoch 36/100\n",
      "284/284 [==============================] - 0s 46us/sample - loss: -3.2209 - val_loss: -3.3991\n",
      "Epoch 37/100\n",
      "284/284 [==============================] - 0s 42us/sample - loss: -3.2209 - val_loss: -3.3992\n",
      "Epoch 38/100\n",
      "284/284 [==============================] - 0s 47us/sample - loss: -3.2209 - val_loss: -3.3992\n",
      "Epoch 39/100\n",
      "284/284 [==============================] - 0s 41us/sample - loss: -3.2209 - val_loss: -3.3993\n",
      "Epoch 40/100\n",
      "284/284 [==============================] - 0s 46us/sample - loss: -3.2209 - val_loss: -3.3993\n",
      "Epoch 41/100\n",
      "284/284 [==============================] - 0s 41us/sample - loss: -3.2209 - val_loss: -3.3993\n",
      "Epoch 42/100\n",
      "284/284 [==============================] - 0s 45us/sample - loss: -3.2209 - val_loss: -3.3994\n",
      "Epoch 43/100\n",
      "284/284 [==============================] - 0s 41us/sample - loss: -3.2209 - val_loss: -3.3994\n",
      "Epoch 44/100\n",
      "284/284 [==============================] - 0s 39us/sample - loss: -3.2209 - val_loss: -3.3994\n",
      "Epoch 45/100\n",
      "284/284 [==============================] - 0s 43us/sample - loss: -3.2209 - val_loss: -3.3994\n",
      "Epoch 46/100\n",
      "284/284 [==============================] - 0s 45us/sample - loss: -3.2209 - val_loss: -3.3994\n",
      "Epoch 47/100\n",
      "284/284 [==============================] - 0s 44us/sample - loss: -3.2209 - val_loss: -3.3994\n",
      "Epoch 48/100\n",
      "284/284 [==============================] - 0s 46us/sample - loss: -3.2209 - val_loss: -3.3994\n",
      "Epoch 49/100\n",
      "284/284 [==============================] - 0s 42us/sample - loss: -3.2209 - val_loss: -3.3994\n",
      "Epoch 50/100\n",
      "284/284 [==============================] - 0s 42us/sample - loss: -3.2209 - val_loss: -3.3994\n",
      "Epoch 51/100\n",
      "284/284 [==============================] - 0s 44us/sample - loss: -3.2209 - val_loss: -3.3994\n",
      "Epoch 52/100\n",
      "284/284 [==============================] - 0s 47us/sample - loss: -3.2209 - val_loss: -3.3994\n",
      "Epoch 53/100\n",
      "284/284 [==============================] - 0s 44us/sample - loss: -3.2209 - val_loss: -3.3994\n",
      "Epoch 54/100\n",
      "284/284 [==============================] - 0s 50us/sample - loss: -3.2209 - val_loss: -3.3994\n",
      "Epoch 55/100\n",
      "284/284 [==============================] - 0s 44us/sample - loss: -3.2209 - val_loss: -3.3994\n",
      "Epoch 56/100\n",
      "284/284 [==============================] - 0s 46us/sample - loss: -3.2209 - val_loss: -3.3994\n",
      "Epoch 57/100\n",
      "284/284 [==============================] - 0s 41us/sample - loss: -3.2209 - val_loss: -3.3994\n",
      "Epoch 58/100\n",
      "284/284 [==============================] - 0s 45us/sample - loss: -3.2209 - val_loss: -3.3994\n",
      "Epoch 59/100\n",
      "284/284 [==============================] - 0s 44us/sample - loss: -3.2209 - val_loss: -3.3994\n",
      "Epoch 60/100\n",
      "284/284 [==============================] - 0s 44us/sample - loss: -3.2209 - val_loss: -3.3994\n",
      "Epoch 61/100\n",
      "284/284 [==============================] - 0s 42us/sample - loss: -3.2209 - val_loss: -3.3994\n",
      "Epoch 62/100\n",
      "284/284 [==============================] - 0s 41us/sample - loss: -3.2209 - val_loss: -3.3994\n",
      "Epoch 63/100\n",
      "284/284 [==============================] - 0s 39us/sample - loss: -3.2209 - val_loss: -3.3994\n",
      "Epoch 64/100\n",
      "284/284 [==============================] - 0s 38us/sample - loss: -3.2209 - val_loss: -3.3994\n",
      "Epoch 65/100\n",
      "284/284 [==============================] - 0s 37us/sample - loss: -3.2209 - val_loss: -3.3994\n",
      "Epoch 66/100\n",
      "284/284 [==============================] - 0s 43us/sample - loss: -3.2209 - val_loss: -3.3994\n",
      "Epoch 67/100\n",
      "284/284 [==============================] - 0s 47us/sample - loss: -3.2209 - val_loss: -3.3994\n",
      "Epoch 68/100\n",
      "284/284 [==============================] - 0s 45us/sample - loss: -3.2209 - val_loss: -3.3994\n",
      "Epoch 69/100\n",
      "284/284 [==============================] - 0s 47us/sample - loss: -3.2209 - val_loss: -3.3994\n",
      "Epoch 70/100\n",
      "284/284 [==============================] - 0s 52us/sample - loss: -3.2209 - val_loss: -3.3994\n",
      "Epoch 71/100\n",
      "284/284 [==============================] - 0s 49us/sample - loss: -3.2209 - val_loss: -3.3994\n",
      "Epoch 72/100\n",
      "284/284 [==============================] - 0s 45us/sample - loss: -3.2209 - val_loss: -3.3994\n",
      "Epoch 73/100\n",
      "284/284 [==============================] - 0s 47us/sample - loss: -3.2209 - val_loss: -3.3994\n",
      "Epoch 74/100\n",
      "284/284 [==============================] - 0s 54us/sample - loss: -3.2209 - val_loss: -3.3994\n",
      "Epoch 75/100\n",
      "284/284 [==============================] - 0s 47us/sample - loss: -3.2209 - val_loss: -3.3994\n",
      "Epoch 76/100\n",
      "284/284 [==============================] - 0s 49us/sample - loss: -3.2209 - val_loss: -3.3994\n",
      "Epoch 77/100\n",
      "284/284 [==============================] - 0s 60us/sample - loss: -3.2209 - val_loss: -3.3994\n",
      "Epoch 78/100\n",
      "284/284 [==============================] - 0s 58us/sample - loss: -3.2209 - val_loss: -3.3994\n",
      "Epoch 79/100\n",
      "284/284 [==============================] - 0s 61us/sample - loss: -3.2209 - val_loss: -3.3994\n",
      "Epoch 80/100\n",
      "284/284 [==============================] - 0s 57us/sample - loss: -3.2209 - val_loss: -3.3994\n",
      "Epoch 81/100\n",
      "284/284 [==============================] - 0s 77us/sample - loss: -3.2209 - val_loss: -3.3994\n",
      "Epoch 82/100\n",
      "284/284 [==============================] - 0s 52us/sample - loss: -3.2209 - val_loss: -3.3994\n",
      "Epoch 83/100\n",
      "284/284 [==============================] - 0s 60us/sample - loss: -3.2209 - val_loss: -3.3994\n",
      "Epoch 84/100\n",
      "284/284 [==============================] - 0s 56us/sample - loss: -3.2209 - val_loss: -3.3994\n",
      "Epoch 85/100\n",
      "284/284 [==============================] - 0s 54us/sample - loss: -3.2209 - val_loss: -3.3994\n",
      "Epoch 86/100\n",
      "284/284 [==============================] - 0s 57us/sample - loss: -3.2209 - val_loss: -3.3994\n",
      "Epoch 87/100\n",
      "284/284 [==============================] - 0s 53us/sample - loss: -3.2209 - val_loss: -3.3994\n",
      "Epoch 88/100\n",
      "284/284 [==============================] - 0s 55us/sample - loss: -3.2209 - val_loss: -3.3994\n",
      "Epoch 89/100\n",
      "284/284 [==============================] - 0s 48us/sample - loss: -3.2209 - val_loss: -3.3994\n",
      "Epoch 90/100\n",
      "284/284 [==============================] - 0s 47us/sample - loss: -3.2209 - val_loss: -3.3994\n",
      "Epoch 91/100\n",
      "284/284 [==============================] - 0s 43us/sample - loss: -3.2209 - val_loss: -3.3994\n",
      "Epoch 92/100\n",
      "284/284 [==============================] - 0s 43us/sample - loss: -3.2209 - val_loss: -3.3994\n",
      "Epoch 93/100\n",
      "284/284 [==============================] - 0s 56us/sample - loss: -3.2209 - val_loss: -3.3994\n",
      "Epoch 94/100\n",
      "284/284 [==============================] - 0s 64us/sample - loss: -3.2209 - val_loss: -3.3994\n",
      "Epoch 95/100\n",
      "284/284 [==============================] - 0s 51us/sample - loss: -3.2209 - val_loss: -3.3994\n",
      "Epoch 96/100\n",
      "284/284 [==============================] - 0s 53us/sample - loss: -3.2209 - val_loss: -3.3994\n",
      "Epoch 97/100\n",
      "284/284 [==============================] - 0s 48us/sample - loss: -3.2209 - val_loss: -3.3994\n",
      "Epoch 98/100\n",
      "284/284 [==============================] - 0s 97us/sample - loss: -3.2209 - val_loss: -3.3994\n",
      "Epoch 99/100\n",
      "284/284 [==============================] - 0s 73us/sample - loss: -3.2209 - val_loss: -3.3994\n",
      "Epoch 100/100\n",
      "284/284 [==============================] - 0s 60us/sample - loss: -3.2209 - val_loss: -3.3994\n"
     ]
    }
   ],
   "metadata": {}
  },
  {
   "cell_type": "code",
   "execution_count": 16,
   "source": [
    "plt.plot(results.history['loss'])\n",
    "plt.plot(results.history['val_loss'])\n",
    "plt.title('Model Loss')\n",
    "plt.ylabel('Loss')\n",
    "plt.xlabel('Epoch')\n",
    "plt.legend(['Training Loss', 'Validation Loss'], loc='upper left')\n",
    "plt.show()"
   ],
   "outputs": [
    {
     "output_type": "display_data",
     "data": {
      "image/png": "[encoded data removed]",
      "image/svg+xml": "<?xml version=\"1.0\" encoding=\"utf-8\" standalone=\"no\"?>\n<!DOCTYPE svg PUBLIC \"-//W3C//DTD SVG 1.1//EN\"\n  \"http://www.w3.org/Graphics/SVG/1.1/DTD/svg11.dtd\">\n<svg height=\"277.314375pt\" version=\"1.1\" viewBox=\"0 0 384.620312 277.314375\" width=\"384.620312pt\" xmlns=\"http://www.w3.org/2000/svg\" xmlns:xlink=\"http://www.w3.org/1999/xlink\">\n <metadata>\n  <rdf:RDF xmlns:cc=\"http://creativecommons.org/ns#\" xmlns:dc=\"http://purl.org/dc/elements/1.1/\" xmlns:rdf=\"http://www.w3.org/1999/02/22-rdf-syntax-ns#\">\n   <cc:Work>\n    <dc:type rdf:resource=\"http://purl.org/dc/dcmitype/StillImage\"/>\n    <dc:date>2021-09-04T18:43:14.295608</dc:date>\n    <dc:format>image/svg+xml</dc:format>\n    <dc:creator>\n     <cc:Agent>\n      <dc:title>Matplotlib v3.4.3, https://matplotlib.org/</dc:title>\n     </cc:Agent>\n    </dc:creator>\n   </cc:Work>\n  </rdf:RDF>\n </metadata>\n <defs>\n  <style type=\"text/css\">*{stroke-linecap:butt;stroke-linejoin:round;}</style>\n </defs>\n <g id=\"figure_1\">\n  <g id=\"patch_1\">\n   <path d=\"M 0 277.314375 \nL 384.620312 277.314375 \nL 384.620312 0 \nL 0 0 \nz\n\" style=\"fill:none;\"/>\n  </g>\n  <g id=\"axes_1\">\n   <g id=\"patch_2\">\n    <path d=\"M 42.620313 239.758125 \nL 377.420313 239.758125 \nL 377.420313 22.318125 \nL 42.620313 22.318125 \nz\n\" style=\"fill:#ffffff;\"/>\n   </g>\n   <g id=\"matplotlib.axis_1\">\n    <g id=\"xtick_1\">\n     <g id=\"line2d_1\">\n      <defs>\n       <path d=\"M 0 0 \nL 0 3.5 \n\" id=\"m20282a4326\" style=\"stroke:#000000;stroke-width:0.8;\"/>\n      </defs>\n      <g>\n       <use style=\"stroke:#000000;stroke-width:0.8;\" x=\"57.838494\" xlink:href=\"#m20282a4326\" y=\"239.758125\"/>\n      </g>\n     </g>\n     <g id=\"text_1\">\n      <!-- 0 -->\n      <g transform=\"translate(54.657244 254.356562)scale(0.1 -0.1)\">\n       <defs>\n        <path d=\"M 2034 4250 \nQ 1547 4250 1301 3770 \nQ 1056 3291 1056 2328 \nQ 1056 1369 1301 889 \nQ 1547 409 2034 409 \nQ 2525 409 2770 889 \nQ 3016 1369 3016 2328 \nQ 3016 3291 2770 3770 \nQ 2525 4250 2034 4250 \nz\nM 2034 4750 \nQ 2819 4750 3233 4129 \nQ 3647 3509 3647 2328 \nQ 3647 1150 3233 529 \nQ 2819 -91 2034 -91 \nQ 1250 -91 836 529 \nQ 422 1150 422 2328 \nQ 422 3509 836 4129 \nQ 1250 4750 2034 4750 \nz\n\" id=\"DejaVuSans-30\" transform=\"scale(0.015625)\"/>\n       </defs>\n       <use xlink:href=\"#DejaVuSans-30\"/>\n      </g>\n     </g>\n    </g>\n    <g id=\"xtick_2\">\n     <g id=\"line2d_2\">\n      <g>\n       <use style=\"stroke:#000000;stroke-width:0.8;\" x=\"119.326098\" xlink:href=\"#m20282a4326\" y=\"239.758125\"/>\n      </g>\n     </g>\n     <g id=\"text_2\">\n      <!-- 20 -->\n      <g transform=\"translate(112.963598 254.356562)scale(0.1 -0.1)\">\n       <defs>\n        <path d=\"M 1228 531 \nL 3431 531 \nL 3431 0 \nL 469 0 \nL 469 531 \nQ 828 903 1448 1529 \nQ 2069 2156 2228 2338 \nQ 2531 2678 2651 2914 \nQ 2772 3150 2772 3378 \nQ 2772 3750 2511 3984 \nQ 2250 4219 1831 4219 \nQ 1534 4219 1204 4116 \nQ 875 4013 500 3803 \nL 500 4441 \nQ 881 4594 1212 4672 \nQ 1544 4750 1819 4750 \nQ 2544 4750 2975 4387 \nQ 3406 4025 3406 3419 \nQ 3406 3131 3298 2873 \nQ 3191 2616 2906 2266 \nQ 2828 2175 2409 1742 \nQ 1991 1309 1228 531 \nz\n\" id=\"DejaVuSans-32\" transform=\"scale(0.015625)\"/>\n       </defs>\n       <use xlink:href=\"#DejaVuSans-32\"/>\n       <use x=\"63.623047\" xlink:href=\"#DejaVuSans-30\"/>\n      </g>\n     </g>\n    </g>\n    <g id=\"xtick_3\">\n     <g id=\"line2d_3\">\n      <g>\n       <use style=\"stroke:#000000;stroke-width:0.8;\" x=\"180.813701\" xlink:href=\"#m20282a4326\" y=\"239.758125\"/>\n      </g>\n     </g>\n     <g id=\"text_3\">\n      <!-- 40 -->\n      <g transform=\"translate(174.451201 254.356562)scale(0.1 -0.1)\">\n       <defs>\n        <path d=\"M 2419 4116 \nL 825 1625 \nL 2419 1625 \nL 2419 4116 \nz\nM 2253 4666 \nL 3047 4666 \nL 3047 1625 \nL 3713 1625 \nL 3713 1100 \nL 3047 1100 \nL 3047 0 \nL 2419 0 \nL 2419 1100 \nL 313 1100 \nL 313 1709 \nL 2253 4666 \nz\n\" id=\"DejaVuSans-34\" transform=\"scale(0.015625)\"/>\n       </defs>\n       <use xlink:href=\"#DejaVuSans-34\"/>\n       <use x=\"63.623047\" xlink:href=\"#DejaVuSans-30\"/>\n      </g>\n     </g>\n    </g>\n    <g id=\"xtick_4\">\n     <g id=\"line2d_4\">\n      <g>\n       <use style=\"stroke:#000000;stroke-width:0.8;\" x=\"242.301304\" xlink:href=\"#m20282a4326\" y=\"239.758125\"/>\n      </g>\n     </g>\n     <g id=\"text_4\">\n      <!-- 60 -->\n      <g transform=\"translate(235.938804 254.356562)scale(0.1 -0.1)\">\n       <defs>\n        <path d=\"M 2113 2584 \nQ 1688 2584 1439 2293 \nQ 1191 2003 1191 1497 \nQ 1191 994 1439 701 \nQ 1688 409 2113 409 \nQ 2538 409 2786 701 \nQ 3034 994 3034 1497 \nQ 3034 2003 2786 2293 \nQ 2538 2584 2113 2584 \nz\nM 3366 4563 \nL 3366 3988 \nQ 3128 4100 2886 4159 \nQ 2644 4219 2406 4219 \nQ 1781 4219 1451 3797 \nQ 1122 3375 1075 2522 \nQ 1259 2794 1537 2939 \nQ 1816 3084 2150 3084 \nQ 2853 3084 3261 2657 \nQ 3669 2231 3669 1497 \nQ 3669 778 3244 343 \nQ 2819 -91 2113 -91 \nQ 1303 -91 875 529 \nQ 447 1150 447 2328 \nQ 447 3434 972 4092 \nQ 1497 4750 2381 4750 \nQ 2619 4750 2861 4703 \nQ 3103 4656 3366 4563 \nz\n\" id=\"DejaVuSans-36\" transform=\"scale(0.015625)\"/>\n       </defs>\n       <use xlink:href=\"#DejaVuSans-36\"/>\n       <use x=\"63.623047\" xlink:href=\"#DejaVuSans-30\"/>\n      </g>\n     </g>\n    </g>\n    <g id=\"xtick_5\">\n     <g id=\"line2d_5\">\n      <g>\n       <use style=\"stroke:#000000;stroke-width:0.8;\" x=\"303.788908\" xlink:href=\"#m20282a4326\" y=\"239.758125\"/>\n      </g>\n     </g>\n     <g id=\"text_5\">\n      <!-- 80 -->\n      <g transform=\"translate(297.426408 254.356562)scale(0.1 -0.1)\">\n       <defs>\n        <path d=\"M 2034 2216 \nQ 1584 2216 1326 1975 \nQ 1069 1734 1069 1313 \nQ 1069 891 1326 650 \nQ 1584 409 2034 409 \nQ 2484 409 2743 651 \nQ 3003 894 3003 1313 \nQ 3003 1734 2745 1975 \nQ 2488 2216 2034 2216 \nz\nM 1403 2484 \nQ 997 2584 770 2862 \nQ 544 3141 544 3541 \nQ 544 4100 942 4425 \nQ 1341 4750 2034 4750 \nQ 2731 4750 3128 4425 \nQ 3525 4100 3525 3541 \nQ 3525 3141 3298 2862 \nQ 3072 2584 2669 2484 \nQ 3125 2378 3379 2068 \nQ 3634 1759 3634 1313 \nQ 3634 634 3220 271 \nQ 2806 -91 2034 -91 \nQ 1263 -91 848 271 \nQ 434 634 434 1313 \nQ 434 1759 690 2068 \nQ 947 2378 1403 2484 \nz\nM 1172 3481 \nQ 1172 3119 1398 2916 \nQ 1625 2713 2034 2713 \nQ 2441 2713 2670 2916 \nQ 2900 3119 2900 3481 \nQ 2900 3844 2670 4047 \nQ 2441 4250 2034 4250 \nQ 1625 4250 1398 4047 \nQ 1172 3844 1172 3481 \nz\n\" id=\"DejaVuSans-38\" transform=\"scale(0.015625)\"/>\n       </defs>\n       <use xlink:href=\"#DejaVuSans-38\"/>\n       <use x=\"63.623047\" xlink:href=\"#DejaVuSans-30\"/>\n      </g>\n     </g>\n    </g>\n    <g id=\"xtick_6\">\n     <g id=\"line2d_6\">\n      <g>\n       <use style=\"stroke:#000000;stroke-width:0.8;\" x=\"365.276511\" xlink:href=\"#m20282a4326\" y=\"239.758125\"/>\n      </g>\n     </g>\n     <g id=\"text_6\">\n      <!-- 100 -->\n      <g transform=\"translate(355.732761 254.356562)scale(0.1 -0.1)\">\n       <defs>\n        <path d=\"M 794 531 \nL 1825 531 \nL 1825 4091 \nL 703 3866 \nL 703 4441 \nL 1819 4666 \nL 2450 4666 \nL 2450 531 \nL 3481 531 \nL 3481 0 \nL 794 0 \nL 794 531 \nz\n\" id=\"DejaVuSans-31\" transform=\"scale(0.015625)\"/>\n       </defs>\n       <use xlink:href=\"#DejaVuSans-31\"/>\n       <use x=\"63.623047\" xlink:href=\"#DejaVuSans-30\"/>\n       <use x=\"127.246094\" xlink:href=\"#DejaVuSans-30\"/>\n      </g>\n     </g>\n    </g>\n    <g id=\"text_7\">\n     <!-- Epoch -->\n     <g transform=\"translate(194.709375 268.034687)scale(0.1 -0.1)\">\n      <defs>\n       <path d=\"M 628 4666 \nL 3578 4666 \nL 3578 4134 \nL 1259 4134 \nL 1259 2753 \nL 3481 2753 \nL 3481 2222 \nL 1259 2222 \nL 1259 531 \nL 3634 531 \nL 3634 0 \nL 628 0 \nL 628 4666 \nz\n\" id=\"DejaVuSans-45\" transform=\"scale(0.015625)\"/>\n       <path d=\"M 1159 525 \nL 1159 -1331 \nL 581 -1331 \nL 581 3500 \nL 1159 3500 \nL 1159 2969 \nQ 1341 3281 1617 3432 \nQ 1894 3584 2278 3584 \nQ 2916 3584 3314 3078 \nQ 3713 2572 3713 1747 \nQ 3713 922 3314 415 \nQ 2916 -91 2278 -91 \nQ 1894 -91 1617 61 \nQ 1341 213 1159 525 \nz\nM 3116 1747 \nQ 3116 2381 2855 2742 \nQ 2594 3103 2138 3103 \nQ 1681 3103 1420 2742 \nQ 1159 2381 1159 1747 \nQ 1159 1113 1420 752 \nQ 1681 391 2138 391 \nQ 2594 391 2855 752 \nQ 3116 1113 3116 1747 \nz\n\" id=\"DejaVuSans-70\" transform=\"scale(0.015625)\"/>\n       <path d=\"M 1959 3097 \nQ 1497 3097 1228 2736 \nQ 959 2375 959 1747 \nQ 959 1119 1226 758 \nQ 1494 397 1959 397 \nQ 2419 397 2687 759 \nQ 2956 1122 2956 1747 \nQ 2956 2369 2687 2733 \nQ 2419 3097 1959 3097 \nz\nM 1959 3584 \nQ 2709 3584 3137 3096 \nQ 3566 2609 3566 1747 \nQ 3566 888 3137 398 \nQ 2709 -91 1959 -91 \nQ 1206 -91 779 398 \nQ 353 888 353 1747 \nQ 353 2609 779 3096 \nQ 1206 3584 1959 3584 \nz\n\" id=\"DejaVuSans-6f\" transform=\"scale(0.015625)\"/>\n       <path d=\"M 3122 3366 \nL 3122 2828 \nQ 2878 2963 2633 3030 \nQ 2388 3097 2138 3097 \nQ 1578 3097 1268 2742 \nQ 959 2388 959 1747 \nQ 959 1106 1268 751 \nQ 1578 397 2138 397 \nQ 2388 397 2633 464 \nQ 2878 531 3122 666 \nL 3122 134 \nQ 2881 22 2623 -34 \nQ 2366 -91 2075 -91 \nQ 1284 -91 818 406 \nQ 353 903 353 1747 \nQ 353 2603 823 3093 \nQ 1294 3584 2113 3584 \nQ 2378 3584 2631 3529 \nQ 2884 3475 3122 3366 \nz\n\" id=\"DejaVuSans-63\" transform=\"scale(0.015625)\"/>\n       <path d=\"M 3513 2113 \nL 3513 0 \nL 2938 0 \nL 2938 2094 \nQ 2938 2591 2744 2837 \nQ 2550 3084 2163 3084 \nQ 1697 3084 1428 2787 \nQ 1159 2491 1159 1978 \nL 1159 0 \nL 581 0 \nL 581 4863 \nL 1159 4863 \nL 1159 2956 \nQ 1366 3272 1645 3428 \nQ 1925 3584 2291 3584 \nQ 2894 3584 3203 3211 \nQ 3513 2838 3513 2113 \nz\n\" id=\"DejaVuSans-68\" transform=\"scale(0.015625)\"/>\n      </defs>\n      <use xlink:href=\"#DejaVuSans-45\"/>\n      <use x=\"63.183594\" xlink:href=\"#DejaVuSans-70\"/>\n      <use x=\"126.660156\" xlink:href=\"#DejaVuSans-6f\"/>\n      <use x=\"187.841797\" xlink:href=\"#DejaVuSans-63\"/>\n      <use x=\"242.822266\" xlink:href=\"#DejaVuSans-68\"/>\n     </g>\n    </g>\n   </g>\n   <g id=\"matplotlib.axis_2\">\n    <g id=\"ytick_1\">\n     <g id=\"line2d_7\">\n      <defs>\n       <path d=\"M 0 0 \nL -3.5 0 \n\" id=\"m9be3c73225\" style=\"stroke:#000000;stroke-width:0.8;\"/>\n      </defs>\n      <g>\n       <use style=\"stroke:#000000;stroke-width:0.8;\" x=\"42.620313\" xlink:href=\"#m9be3c73225\" y=\"238.53574\"/>\n      </g>\n     </g>\n     <g id=\"text_8\">\n      <!-- −4 -->\n      <g transform=\"translate(20.878125 242.334959)scale(0.1 -0.1)\">\n       <defs>\n        <path d=\"M 678 2272 \nL 4684 2272 \nL 4684 1741 \nL 678 1741 \nL 678 2272 \nz\n\" id=\"DejaVuSans-2212\" transform=\"scale(0.015625)\"/>\n       </defs>\n       <use xlink:href=\"#DejaVuSans-2212\"/>\n       <use x=\"83.789062\" xlink:href=\"#DejaVuSans-34\"/>\n      </g>\n     </g>\n    </g>\n    <g id=\"ytick_2\">\n     <g id=\"line2d_8\">\n      <g>\n       <use style=\"stroke:#000000;stroke-width:0.8;\" x=\"42.620313\" xlink:href=\"#m9be3c73225\" y=\"209.691595\"/>\n      </g>\n     </g>\n     <g id=\"text_9\">\n      <!-- −2 -->\n      <g transform=\"translate(20.878125 213.490814)scale(0.1 -0.1)\">\n       <use xlink:href=\"#DejaVuSans-2212\"/>\n       <use x=\"83.789062\" xlink:href=\"#DejaVuSans-32\"/>\n      </g>\n     </g>\n    </g>\n    <g id=\"ytick_3\">\n     <g id=\"line2d_9\">\n      <g>\n       <use style=\"stroke:#000000;stroke-width:0.8;\" x=\"42.620313\" xlink:href=\"#m9be3c73225\" y=\"180.84745\"/>\n      </g>\n     </g>\n     <g id=\"text_10\">\n      <!-- 0 -->\n      <g transform=\"translate(29.257813 184.646669)scale(0.1 -0.1)\">\n       <use xlink:href=\"#DejaVuSans-30\"/>\n      </g>\n     </g>\n    </g>\n    <g id=\"ytick_4\">\n     <g id=\"line2d_10\">\n      <g>\n       <use style=\"stroke:#000000;stroke-width:0.8;\" x=\"42.620313\" xlink:href=\"#m9be3c73225\" y=\"152.003305\"/>\n      </g>\n     </g>\n     <g id=\"text_11\">\n      <!-- 2 -->\n      <g transform=\"translate(29.257813 155.802524)scale(0.1 -0.1)\">\n       <use xlink:href=\"#DejaVuSans-32\"/>\n      </g>\n     </g>\n    </g>\n    <g id=\"ytick_5\">\n     <g id=\"line2d_11\">\n      <g>\n       <use style=\"stroke:#000000;stroke-width:0.8;\" x=\"42.620313\" xlink:href=\"#m9be3c73225\" y=\"123.159161\"/>\n      </g>\n     </g>\n     <g id=\"text_12\">\n      <!-- 4 -->\n      <g transform=\"translate(29.257813 126.958379)scale(0.1 -0.1)\">\n       <use xlink:href=\"#DejaVuSans-34\"/>\n      </g>\n     </g>\n    </g>\n    <g id=\"ytick_6\">\n     <g id=\"line2d_12\">\n      <g>\n       <use style=\"stroke:#000000;stroke-width:0.8;\" x=\"42.620313\" xlink:href=\"#m9be3c73225\" y=\"94.315016\"/>\n      </g>\n     </g>\n     <g id=\"text_13\">\n      <!-- 6 -->\n      <g transform=\"translate(29.257813 98.114234)scale(0.1 -0.1)\">\n       <use xlink:href=\"#DejaVuSans-36\"/>\n      </g>\n     </g>\n    </g>\n    <g id=\"ytick_7\">\n     <g id=\"line2d_13\">\n      <g>\n       <use style=\"stroke:#000000;stroke-width:0.8;\" x=\"42.620313\" xlink:href=\"#m9be3c73225\" y=\"65.470871\"/>\n      </g>\n     </g>\n     <g id=\"text_14\">\n      <!-- 8 -->\n      <g transform=\"translate(29.257813 69.27009)scale(0.1 -0.1)\">\n       <use xlink:href=\"#DejaVuSans-38\"/>\n      </g>\n     </g>\n    </g>\n    <g id=\"ytick_8\">\n     <g id=\"line2d_14\">\n      <g>\n       <use style=\"stroke:#000000;stroke-width:0.8;\" x=\"42.620313\" xlink:href=\"#m9be3c73225\" y=\"36.626726\"/>\n      </g>\n     </g>\n     <g id=\"text_15\">\n      <!-- 10 -->\n      <g transform=\"translate(22.895313 40.425945)scale(0.1 -0.1)\">\n       <use xlink:href=\"#DejaVuSans-31\"/>\n       <use x=\"63.623047\" xlink:href=\"#DejaVuSans-30\"/>\n      </g>\n     </g>\n    </g>\n    <g id=\"text_16\">\n     <!-- Loss -->\n     <g transform=\"translate(14.798438 142.005312)rotate(-90)scale(0.1 -0.1)\">\n      <defs>\n       <path d=\"M 628 4666 \nL 1259 4666 \nL 1259 531 \nL 3531 531 \nL 3531 0 \nL 628 0 \nL 628 4666 \nz\n\" id=\"DejaVuSans-4c\" transform=\"scale(0.015625)\"/>\n       <path d=\"M 2834 3397 \nL 2834 2853 \nQ 2591 2978 2328 3040 \nQ 2066 3103 1784 3103 \nQ 1356 3103 1142 2972 \nQ 928 2841 928 2578 \nQ 928 2378 1081 2264 \nQ 1234 2150 1697 2047 \nL 1894 2003 \nQ 2506 1872 2764 1633 \nQ 3022 1394 3022 966 \nQ 3022 478 2636 193 \nQ 2250 -91 1575 -91 \nQ 1294 -91 989 -36 \nQ 684 19 347 128 \nL 347 722 \nQ 666 556 975 473 \nQ 1284 391 1588 391 \nQ 1994 391 2212 530 \nQ 2431 669 2431 922 \nQ 2431 1156 2273 1281 \nQ 2116 1406 1581 1522 \nL 1381 1569 \nQ 847 1681 609 1914 \nQ 372 2147 372 2553 \nQ 372 3047 722 3315 \nQ 1072 3584 1716 3584 \nQ 2034 3584 2315 3537 \nQ 2597 3491 2834 3397 \nz\n\" id=\"DejaVuSans-73\" transform=\"scale(0.015625)\"/>\n      </defs>\n      <use xlink:href=\"#DejaVuSans-4c\"/>\n      <use x=\"53.962891\" xlink:href=\"#DejaVuSans-6f\"/>\n      <use x=\"115.144531\" xlink:href=\"#DejaVuSans-73\"/>\n      <use x=\"167.244141\" xlink:href=\"#DejaVuSans-73\"/>\n     </g>\n    </g>\n   </g>\n   <g id=\"line2d_15\">\n    <path clip-path=\"url(#p72bd083a23)\" d=\"M 57.838494 32.201761 \nL 60.912874 61.509998 \nL 63.987255 96.363108 \nL 67.061635 129.98706 \nL 70.136015 157.522383 \nL 73.210395 178.545853 \nL 76.284775 194.064197 \nL 79.359155 205.316823 \nL 82.433536 213.366822 \nL 85.507916 218.768671 \nL 88.582296 221.993203 \nL 91.656676 223.996926 \nL 94.731056 225.267079 \nL 97.805436 226.063392 \nL 100.879817 226.532817 \nL 103.954197 226.816808 \nL 107.028577 226.994962 \nL 110.102957 227.10961 \nL 113.177337 227.181912 \nL 116.251717 227.227606 \nL 119.326098 227.256057 \nL 122.400478 227.270991 \nL 125.474858 227.28123 \nL 128.549238 227.287936 \nL 131.623618 227.292252 \nL 134.697998 227.294867 \nL 137.772379 227.29672 \nL 140.846759 227.297793 \nL 143.921139 227.298395 \nL 146.995519 227.298852 \nL 150.069899 227.299098 \nL 153.144279 227.299256 \nL 156.21866 227.299371 \nL 159.29304 227.299425 \nL 162.36742 227.299453 \nL 165.4418 227.299475 \nL 168.51618 227.299494 \nL 171.59056 227.299504 \nL 174.664941 227.29951 \nL 177.739321 227.299512 \nL 180.813701 227.299514 \nL 183.888081 227.299516 \nL 186.962461 227.299516 \nL 190.036841 227.299517 \nL 193.111222 227.299518 \nL 196.185602 227.299517 \nL 199.259982 227.299517 \nL 202.334362 227.299518 \nL 205.408742 227.299518 \nL 208.483122 227.299518 \nL 211.557503 227.299518 \nL 214.631883 227.299517 \nL 217.706263 227.299517 \nL 220.780643 227.299518 \nL 223.855023 227.299518 \nL 226.929403 227.299518 \nL 230.003784 227.299518 \nL 233.078164 227.299517 \nL 236.152544 227.299518 \nL 239.226924 227.299518 \nL 242.301304 227.299516 \nL 245.375684 227.299517 \nL 248.450065 227.299518 \nL 251.524445 227.299518 \nL 254.598825 227.299518 \nL 257.673205 227.299517 \nL 260.747585 227.299519 \nL 263.821965 227.299517 \nL 266.896346 227.299518 \nL 269.970726 227.299518 \nL 273.045106 227.299517 \nL 276.119486 227.299518 \nL 279.193866 227.299519 \nL 282.268246 227.299518 \nL 285.342627 227.299518 \nL 288.417007 227.299516 \nL 291.491387 227.299518 \nL 294.565767 227.299519 \nL 297.640147 227.299517 \nL 300.714527 227.299517 \nL 303.788908 227.299518 \nL 306.863288 227.299518 \nL 309.937668 227.299517 \nL 313.012048 227.299517 \nL 316.086428 227.299518 \nL 319.160808 227.299519 \nL 322.235189 227.299517 \nL 325.309569 227.299518 \nL 328.383949 227.299518 \nL 331.458329 227.299519 \nL 334.532709 227.299517 \nL 337.607089 227.299519 \nL 340.68147 227.299519 \nL 343.75585 227.299516 \nL 346.83023 227.299518 \nL 349.90461 227.299519 \nL 352.97899 227.299518 \nL 356.05337 227.299517 \nL 359.127751 227.299517 \nL 362.202131 227.299518 \n\" style=\"fill:none;stroke:#1f77b4;stroke-linecap:square;stroke-width:1.5;\"/>\n   </g>\n   <g id=\"line2d_16\">\n    <path clip-path=\"url(#p72bd083a23)\" d=\"M 57.838494 90.077353 \nL 60.912874 111.875758 \nL 63.987255 135.614812 \nL 67.061635 157.360655 \nL 70.136015 175.009105 \nL 73.210395 189.411314 \nL 76.284775 200.64818 \nL 79.359155 209.340527 \nL 82.433536 215.843968 \nL 85.507916 220.273656 \nL 88.582296 223.288892 \nL 91.656676 225.39432 \nL 94.731056 226.844959 \nL 97.805436 227.810517 \nL 100.879817 228.409581 \nL 103.954197 228.82402 \nL 107.028577 229.111618 \nL 110.102957 229.314859 \nL 113.177337 229.468205 \nL 116.251717 229.574343 \nL 119.326098 229.644068 \nL 122.400478 229.700536 \nL 125.474858 229.743917 \nL 128.549238 229.775685 \nL 131.623618 229.797581 \nL 134.697998 229.817809 \nL 137.772379 229.831266 \nL 140.846759 229.840552 \nL 143.921139 229.849299 \nL 146.995519 229.855032 \nL 150.069899 229.859383 \nL 153.144279 229.863229 \nL 156.21866 229.865786 \nL 159.29304 229.867389 \nL 162.36742 229.868735 \nL 165.4418 229.87001 \nL 168.51618 229.870879 \nL 171.59056 229.871543 \nL 174.664941 229.872098 \nL 177.739321 229.872572 \nL 180.813701 229.872938 \nL 183.888081 229.873183 \nL 186.962461 229.873377 \nL 190.036841 229.873565 \nL 193.111222 229.873717 \nL 196.185602 229.873861 \nL 199.259982 229.873972 \nL 202.334362 229.874045 \nL 205.408742 229.874118 \nL 208.483122 229.874162 \nL 211.557503 229.874198 \nL 214.631883 229.874231 \nL 217.706263 229.874257 \nL 220.780643 229.874284 \nL 223.855023 229.87431 \nL 226.929403 229.874329 \nL 230.003784 229.874344 \nL 233.078164 229.874365 \nL 236.152544 229.87438 \nL 239.226924 229.87439 \nL 242.301304 229.874407 \nL 245.375684 229.874409 \nL 248.450065 229.874412 \nL 251.524445 229.874418 \nL 254.598825 229.87442 \nL 257.673205 229.874424 \nL 260.747585 229.874428 \nL 263.821965 229.874432 \nL 266.896346 229.874434 \nL 269.970726 229.874436 \nL 273.045106 229.874438 \nL 276.119486 229.874444 \nL 279.193866 229.874446 \nL 282.268246 229.874447 \nL 285.342627 229.87445 \nL 288.417007 229.874454 \nL 291.491387 229.874456 \nL 294.565767 229.874456 \nL 297.640147 229.874459 \nL 300.714527 229.874462 \nL 303.788908 229.874463 \nL 306.863288 229.874467 \nL 309.937668 229.874467 \nL 313.012048 229.874468 \nL 316.086428 229.874469 \nL 319.160808 229.87447 \nL 322.235189 229.874474 \nL 325.309569 229.874477 \nL 328.383949 229.874475 \nL 331.458329 229.874477 \nL 334.532709 229.874478 \nL 337.607089 229.874481 \nL 340.68147 229.87448 \nL 343.75585 229.874483 \nL 346.83023 229.874487 \nL 349.90461 229.874483 \nL 352.97899 229.874486 \nL 356.05337 229.874487 \nL 359.127751 229.874488 \nL 362.202131 229.874489 \n\" style=\"fill:none;stroke:#ff7f0e;stroke-linecap:square;stroke-width:1.5;\"/>\n   </g>\n   <g id=\"patch_3\">\n    <path d=\"M 42.620313 239.758125 \nL 42.620313 22.318125 \n\" style=\"fill:none;stroke:#000000;stroke-linecap:square;stroke-linejoin:miter;stroke-width:0.8;\"/>\n   </g>\n   <g id=\"patch_4\">\n    <path d=\"M 377.420313 239.758125 \nL 377.420313 22.318125 \n\" style=\"fill:none;stroke:#000000;stroke-linecap:square;stroke-linejoin:miter;stroke-width:0.8;\"/>\n   </g>\n   <g id=\"patch_5\">\n    <path d=\"M 42.620313 239.758125 \nL 377.420312 239.758125 \n\" style=\"fill:none;stroke:#000000;stroke-linecap:square;stroke-linejoin:miter;stroke-width:0.8;\"/>\n   </g>\n   <g id=\"patch_6\">\n    <path d=\"M 42.620313 22.318125 \nL 377.420312 22.318125 \n\" style=\"fill:none;stroke:#000000;stroke-linecap:square;stroke-linejoin:miter;stroke-width:0.8;\"/>\n   </g>\n   <g id=\"text_17\">\n    <!-- Model Loss -->\n    <g transform=\"translate(176.936875 16.318125)scale(0.12 -0.12)\">\n     <defs>\n      <path d=\"M 628 4666 \nL 1569 4666 \nL 2759 1491 \nL 3956 4666 \nL 4897 4666 \nL 4897 0 \nL 4281 0 \nL 4281 4097 \nL 3078 897 \nL 2444 897 \nL 1241 4097 \nL 1241 0 \nL 628 0 \nL 628 4666 \nz\n\" id=\"DejaVuSans-4d\" transform=\"scale(0.015625)\"/>\n      <path d=\"M 2906 2969 \nL 2906 4863 \nL 3481 4863 \nL 3481 0 \nL 2906 0 \nL 2906 525 \nQ 2725 213 2448 61 \nQ 2172 -91 1784 -91 \nQ 1150 -91 751 415 \nQ 353 922 353 1747 \nQ 353 2572 751 3078 \nQ 1150 3584 1784 3584 \nQ 2172 3584 2448 3432 \nQ 2725 3281 2906 2969 \nz\nM 947 1747 \nQ 947 1113 1208 752 \nQ 1469 391 1925 391 \nQ 2381 391 2643 752 \nQ 2906 1113 2906 1747 \nQ 2906 2381 2643 2742 \nQ 2381 3103 1925 3103 \nQ 1469 3103 1208 2742 \nQ 947 2381 947 1747 \nz\n\" id=\"DejaVuSans-64\" transform=\"scale(0.015625)\"/>\n      <path d=\"M 3597 1894 \nL 3597 1613 \nL 953 1613 \nQ 991 1019 1311 708 \nQ 1631 397 2203 397 \nQ 2534 397 2845 478 \nQ 3156 559 3463 722 \nL 3463 178 \nQ 3153 47 2828 -22 \nQ 2503 -91 2169 -91 \nQ 1331 -91 842 396 \nQ 353 884 353 1716 \nQ 353 2575 817 3079 \nQ 1281 3584 2069 3584 \nQ 2775 3584 3186 3129 \nQ 3597 2675 3597 1894 \nz\nM 3022 2063 \nQ 3016 2534 2758 2815 \nQ 2500 3097 2075 3097 \nQ 1594 3097 1305 2825 \nQ 1016 2553 972 2059 \nL 3022 2063 \nz\n\" id=\"DejaVuSans-65\" transform=\"scale(0.015625)\"/>\n      <path d=\"M 603 4863 \nL 1178 4863 \nL 1178 0 \nL 603 0 \nL 603 4863 \nz\n\" id=\"DejaVuSans-6c\" transform=\"scale(0.015625)\"/>\n      <path id=\"DejaVuSans-20\" transform=\"scale(0.015625)\"/>\n     </defs>\n     <use xlink:href=\"#DejaVuSans-4d\"/>\n     <use x=\"86.279297\" xlink:href=\"#DejaVuSans-6f\"/>\n     <use x=\"147.460938\" xlink:href=\"#DejaVuSans-64\"/>\n     <use x=\"210.9375\" xlink:href=\"#DejaVuSans-65\"/>\n     <use x=\"272.460938\" xlink:href=\"#DejaVuSans-6c\"/>\n     <use x=\"300.244141\" xlink:href=\"#DejaVuSans-20\"/>\n     <use x=\"332.03125\" xlink:href=\"#DejaVuSans-4c\"/>\n     <use x=\"385.994141\" xlink:href=\"#DejaVuSans-6f\"/>\n     <use x=\"447.175781\" xlink:href=\"#DejaVuSans-73\"/>\n     <use x=\"499.275391\" xlink:href=\"#DejaVuSans-73\"/>\n    </g>\n   </g>\n   <g id=\"legend_1\">\n    <g id=\"patch_7\">\n     <path d=\"M 49.620313 59.674375 \nL 156.114063 59.674375 \nQ 158.114063 59.674375 158.114063 57.674375 \nL 158.114063 29.318125 \nQ 158.114063 27.318125 156.114063 27.318125 \nL 49.620313 27.318125 \nQ 47.620313 27.318125 47.620313 29.318125 \nL 47.620313 57.674375 \nQ 47.620313 59.674375 49.620313 59.674375 \nz\n\" style=\"fill:#ffffff;opacity:0.8;stroke:#cccccc;stroke-linejoin:miter;\"/>\n    </g>\n    <g id=\"line2d_17\">\n     <path d=\"M 51.620313 35.416562 \nL 71.620313 35.416562 \n\" style=\"fill:none;stroke:#1f77b4;stroke-linecap:square;stroke-width:1.5;\"/>\n    </g>\n    <g id=\"line2d_18\"/>\n    <g id=\"text_18\">\n     <!-- Training Loss -->\n     <g transform=\"translate(79.620313 38.916562)scale(0.1 -0.1)\">\n      <defs>\n       <path d=\"M -19 4666 \nL 3928 4666 \nL 3928 4134 \nL 2272 4134 \nL 2272 0 \nL 1638 0 \nL 1638 4134 \nL -19 4134 \nL -19 4666 \nz\n\" id=\"DejaVuSans-54\" transform=\"scale(0.015625)\"/>\n       <path d=\"M 2631 2963 \nQ 2534 3019 2420 3045 \nQ 2306 3072 2169 3072 \nQ 1681 3072 1420 2755 \nQ 1159 2438 1159 1844 \nL 1159 0 \nL 581 0 \nL 581 3500 \nL 1159 3500 \nL 1159 2956 \nQ 1341 3275 1631 3429 \nQ 1922 3584 2338 3584 \nQ 2397 3584 2469 3576 \nQ 2541 3569 2628 3553 \nL 2631 2963 \nz\n\" id=\"DejaVuSans-72\" transform=\"scale(0.015625)\"/>\n       <path d=\"M 2194 1759 \nQ 1497 1759 1228 1600 \nQ 959 1441 959 1056 \nQ 959 750 1161 570 \nQ 1363 391 1709 391 \nQ 2188 391 2477 730 \nQ 2766 1069 2766 1631 \nL 2766 1759 \nL 2194 1759 \nz\nM 3341 1997 \nL 3341 0 \nL 2766 0 \nL 2766 531 \nQ 2569 213 2275 61 \nQ 1981 -91 1556 -91 \nQ 1019 -91 701 211 \nQ 384 513 384 1019 \nQ 384 1609 779 1909 \nQ 1175 2209 1959 2209 \nL 2766 2209 \nL 2766 2266 \nQ 2766 2663 2505 2880 \nQ 2244 3097 1772 3097 \nQ 1472 3097 1187 3025 \nQ 903 2953 641 2809 \nL 641 3341 \nQ 956 3463 1253 3523 \nQ 1550 3584 1831 3584 \nQ 2591 3584 2966 3190 \nQ 3341 2797 3341 1997 \nz\n\" id=\"DejaVuSans-61\" transform=\"scale(0.015625)\"/>\n       <path d=\"M 603 3500 \nL 1178 3500 \nL 1178 0 \nL 603 0 \nL 603 3500 \nz\nM 603 4863 \nL 1178 4863 \nL 1178 4134 \nL 603 4134 \nL 603 4863 \nz\n\" id=\"DejaVuSans-69\" transform=\"scale(0.015625)\"/>\n       <path d=\"M 3513 2113 \nL 3513 0 \nL 2938 0 \nL 2938 2094 \nQ 2938 2591 2744 2837 \nQ 2550 3084 2163 3084 \nQ 1697 3084 1428 2787 \nQ 1159 2491 1159 1978 \nL 1159 0 \nL 581 0 \nL 581 3500 \nL 1159 3500 \nL 1159 2956 \nQ 1366 3272 1645 3428 \nQ 1925 3584 2291 3584 \nQ 2894 3584 3203 3211 \nQ 3513 2838 3513 2113 \nz\n\" id=\"DejaVuSans-6e\" transform=\"scale(0.015625)\"/>\n       <path d=\"M 2906 1791 \nQ 2906 2416 2648 2759 \nQ 2391 3103 1925 3103 \nQ 1463 3103 1205 2759 \nQ 947 2416 947 1791 \nQ 947 1169 1205 825 \nQ 1463 481 1925 481 \nQ 2391 481 2648 825 \nQ 2906 1169 2906 1791 \nz\nM 3481 434 \nQ 3481 -459 3084 -895 \nQ 2688 -1331 1869 -1331 \nQ 1566 -1331 1297 -1286 \nQ 1028 -1241 775 -1147 \nL 775 -588 \nQ 1028 -725 1275 -790 \nQ 1522 -856 1778 -856 \nQ 2344 -856 2625 -561 \nQ 2906 -266 2906 331 \nL 2906 616 \nQ 2728 306 2450 153 \nQ 2172 0 1784 0 \nQ 1141 0 747 490 \nQ 353 981 353 1791 \nQ 353 2603 747 3093 \nQ 1141 3584 1784 3584 \nQ 2172 3584 2450 3431 \nQ 2728 3278 2906 2969 \nL 2906 3500 \nL 3481 3500 \nL 3481 434 \nz\n\" id=\"DejaVuSans-67\" transform=\"scale(0.015625)\"/>\n      </defs>\n      <use xlink:href=\"#DejaVuSans-54\"/>\n      <use x=\"46.333984\" xlink:href=\"#DejaVuSans-72\"/>\n      <use x=\"87.447266\" xlink:href=\"#DejaVuSans-61\"/>\n      <use x=\"148.726562\" xlink:href=\"#DejaVuSans-69\"/>\n      <use x=\"176.509766\" xlink:href=\"#DejaVuSans-6e\"/>\n      <use x=\"239.888672\" xlink:href=\"#DejaVuSans-69\"/>\n      <use x=\"267.671875\" xlink:href=\"#DejaVuSans-6e\"/>\n      <use x=\"331.050781\" xlink:href=\"#DejaVuSans-67\"/>\n      <use x=\"394.527344\" xlink:href=\"#DejaVuSans-20\"/>\n      <use x=\"426.314453\" xlink:href=\"#DejaVuSans-4c\"/>\n      <use x=\"480.277344\" xlink:href=\"#DejaVuSans-6f\"/>\n      <use x=\"541.458984\" xlink:href=\"#DejaVuSans-73\"/>\n      <use x=\"593.558594\" xlink:href=\"#DejaVuSans-73\"/>\n     </g>\n    </g>\n    <g id=\"line2d_19\">\n     <path d=\"M 51.620313 50.094687 \nL 71.620313 50.094687 \n\" style=\"fill:none;stroke:#ff7f0e;stroke-linecap:square;stroke-width:1.5;\"/>\n    </g>\n    <g id=\"line2d_20\"/>\n    <g id=\"text_19\">\n     <!-- Validation Loss -->\n     <g transform=\"translate(79.620313 53.594687)scale(0.1 -0.1)\">\n      <defs>\n       <path d=\"M 1831 0 \nL 50 4666 \nL 709 4666 \nL 2188 738 \nL 3669 4666 \nL 4325 4666 \nL 2547 0 \nL 1831 0 \nz\n\" id=\"DejaVuSans-56\" transform=\"scale(0.015625)\"/>\n       <path d=\"M 1172 4494 \nL 1172 3500 \nL 2356 3500 \nL 2356 3053 \nL 1172 3053 \nL 1172 1153 \nQ 1172 725 1289 603 \nQ 1406 481 1766 481 \nL 2356 481 \nL 2356 0 \nL 1766 0 \nQ 1100 0 847 248 \nQ 594 497 594 1153 \nL 594 3053 \nL 172 3053 \nL 172 3500 \nL 594 3500 \nL 594 4494 \nL 1172 4494 \nz\n\" id=\"DejaVuSans-74\" transform=\"scale(0.015625)\"/>\n      </defs>\n      <use xlink:href=\"#DejaVuSans-56\"/>\n      <use x=\"60.658203\" xlink:href=\"#DejaVuSans-61\"/>\n      <use x=\"121.9375\" xlink:href=\"#DejaVuSans-6c\"/>\n      <use x=\"149.720703\" xlink:href=\"#DejaVuSans-69\"/>\n      <use x=\"177.503906\" xlink:href=\"#DejaVuSans-64\"/>\n      <use x=\"240.980469\" xlink:href=\"#DejaVuSans-61\"/>\n      <use x=\"302.259766\" xlink:href=\"#DejaVuSans-74\"/>\n      <use x=\"341.46875\" xlink:href=\"#DejaVuSans-69\"/>\n      <use x=\"369.251953\" xlink:href=\"#DejaVuSans-6f\"/>\n      <use x=\"430.433594\" xlink:href=\"#DejaVuSans-6e\"/>\n      <use x=\"493.8125\" xlink:href=\"#DejaVuSans-20\"/>\n      <use x=\"525.599609\" xlink:href=\"#DejaVuSans-4c\"/>\n      <use x=\"579.5625\" xlink:href=\"#DejaVuSans-6f\"/>\n      <use x=\"640.744141\" xlink:href=\"#DejaVuSans-73\"/>\n      <use x=\"692.84375\" xlink:href=\"#DejaVuSans-73\"/>\n     </g>\n    </g>\n   </g>\n  </g>\n </g>\n <defs>\n  <clipPath id=\"p72bd083a23\">\n   <rect height=\"217.44\" width=\"334.8\" x=\"42.620313\" y=\"22.318125\"/>\n  </clipPath>\n </defs>\n</svg>\n",
      "text/plain": [
       "<Figure size 432x288 with 1 Axes>"
      ]
     },
     "metadata": {
      "needs_background": "light"
     }
    }
   ],
   "metadata": {}
  },
  {
   "cell_type": "code",
   "execution_count": 18,
   "source": [
    "# Visualize using the mainfold learning --> tSNE\n",
    "y_compressed_train = vae.predict(y_train)\n",
    "y_compressed_valid = vae.predict(y_test)"
   ],
   "outputs": [
    {
     "output_type": "stream",
     "name": "stderr",
     "text": [
      "/Users/davidmottice/Documents/AFIT/principal-try-2/project-env/lib/python3.8/site-packages/keras/engine/training.py:2470: UserWarning: `Model.state_updates` will be removed in a future version. This property should not be used in TensorFlow 2.0, as `updates` are applied automatically.\n",
      "  warnings.warn('`Model.state_updates` will be removed in a future version. '\n"
     ]
    }
   ],
   "metadata": {}
  },
  {
   "cell_type": "markdown",
   "source": [
    "As the above image shows, we find some stable training for a variational autoencoder for our 24 "
   ],
   "metadata": {}
  }
 ],
 "metadata": {
  "orig_nbformat": 4,
  "language_info": {
   "name": "python",
   "version": "3.8.3",
   "mimetype": "text/x-python",
   "codemirror_mode": {
    "name": "ipython",
    "version": 3
   },
   "pygments_lexer": "ipython3",
   "nbconvert_exporter": "python",
   "file_extension": ".py"
  },
  "kernelspec": {
   "name": "python3",
   "display_name": "Python 3.8.3 64-bit ('project-env': venv)"
  },
  "interpreter": {
   "hash": "d13373dd3c7c2384c9c35d05f5096fd112f2e7fb5ec64c9f55217b2d4ec34c87"
  }
 },
 "nbformat": 4,
 "nbformat_minor": 2
}