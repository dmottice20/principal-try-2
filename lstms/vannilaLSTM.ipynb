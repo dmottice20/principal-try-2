{
 "cells": [
  {
   "cell_type": "code",
   "execution_count": 1,
   "source": [
    "# Basic packages.\n",
    "import pandas as pd\n",
    "import numpy as np\n",
    "import tensorflow as tf\n",
    "import keras_tuner as kt\n",
    "tf.config.run_functions_eagerly(True)\n",
    "\n",
    "# Visualization packages.\n",
    "import seaborn as sns\n",
    "import matplotlib.pyplot as plt"
   ],
   "outputs": [],
   "metadata": {}
  },
  {
   "cell_type": "code",
   "execution_count": 2,
   "source": [
    "# Necessary variables for file exploration.\n",
    "DATA_DIR = 'data'\n",
    "TRANSFORMED_DIR = 'transformed'\n",
    "feature_file = 'transformed_features.csv'\n",
    "response_file = 'transformed_responses.csv'\n",
    "\n",
    "# Read in the data.\n",
    "feature_df = pd.read_csv('../{}/{}/{}'.format(DATA_DIR, TRANSFORMED_DIR, feature_file))\n",
    "response_df = pd.read_csv('../{}/{}/{}'.format(DATA_DIR, TRANSFORMED_DIR, response_file))\n",
    "feature_df.shape, response_df.shape\n",
    "\n",
    "# Convert date to str & set as index.\n",
    "feature_df['DATE'] = pd.to_datetime(feature_df['DATE'])\n",
    "feature_df.set_index('DATE', drop=True, inplace=True)\n",
    "response_df['Date'] = pd.to_datetime(response_df['Date'])\n",
    "response_df.set_index('Date', drop=True, inplace=True)\n",
    "\n",
    "# Normalize data frame.\n",
    "normalized_df = (feature_df - feature_df.mean()) / feature_df.std()"
   ],
   "outputs": [],
   "metadata": {}
  },
  {
   "cell_type": "code",
   "execution_count": 3,
   "source": [
    "# Perform a train-test split. Looking at the above data, let's train on all data prior to end of year 2005.\n",
    "# Test on all data from 2005 to end of year 2019\n",
    "# Keep beginning of 2020 through 2021 seperate for analysis and comparisons with other methods.\n",
    "dates = np.array(feature_df.index)\n",
    "# Add 1 to include December as a part of the train.\n",
    "training_ends = np.where(dates == pd.to_datetime(\"2009-12-01\"))[0][0] + 1\n",
    "test_ends = np.where(dates == pd.to_datetime(\"2019-12-01\"))[0][0] + 1\n",
    "X_train, X_test, X_analysis = feature_df.iloc[:training_ends, :], feature_df.iloc[training_ends:test_ends, :], feature_df.iloc[test_ends:, :]\n",
    "y_train, y_test, y_analysis = response_df.iloc[:training_ends, :], response_df.iloc[training_ends:test_ends, :], response_df.iloc[test_ends:, :]\n",
    "X_train.shape, X_test.shape, X_analysis.shape"
   ],
   "outputs": [
    {
     "output_type": "execute_result",
     "data": {
      "text/plain": [
       "((216, 58), (120, 58), (19, 58))"
      ]
     },
     "metadata": {},
     "execution_count": 3
    }
   ],
   "metadata": {}
  },
  {
   "cell_type": "code",
   "execution_count": 5,
   "source": [
    "# split a univariate sequence into samples\n",
    "def split_sequence(sequence, n_steps):\n",
    "\tX, y = list(), list()\n",
    "\tfor i in range(len(sequence)):\n",
    "\t\t# find the end of this pattern\n",
    "\t\tend_ix = i + n_steps\n",
    "\t\t# check if we are beyond the sequence\n",
    "\t\tif end_ix > len(sequence)-1:\n",
    "\t\t\tbreak\n",
    "\t\t# gather input and output parts of the pattern\n",
    "\t\tseq_x, seq_y = sequence[i:end_ix], sequence[end_ix]\n",
    "\t\tX.append(seq_x)\n",
    "\t\ty.append(seq_y)\n",
    "\treturn np.array(X), np.array(y)\n",
    "\n",
    "def graphHistory(history, title):\n",
    "    \"\"\"\n",
    "    Function for graphing the training and valiedation accuracy and loss\n",
    "    ...\n",
    "    :param history - history object from keras desired to plot.\n",
    "    :param title - str that will be the title of the resulting plot.\n",
    "    \"\"\"\n",
    "    # summarize history for accuracy\n",
    "    fig, axes = plt.subplots(nrows=1, ncols=2, figsize=(12, 6))\n",
    "    axes[0].plot(history.history['accuracy'])\n",
    "    axes[0].plot(history.history['val_accuracy'])\n",
    "    #axes[0].title('Model Accuracy ' + title)\n",
    "    axes[0].set_ylabel('Accuracy')\n",
    "    axes[0].set_xlabel('Epoch')\n",
    "    axes[0].legend(['Tr. Acc', 'Val. Acc'])\n",
    "\n",
    "    # summarize history for loss\n",
    "    axes[1].plot(history.history['loss'])\n",
    "    axes[1].plot(history.history['val_loss'])\n",
    "    #axes[1].title('Model Loss ' + title)\n",
    "    axes[1].set_ylabel('Loss')\n",
    "    axes[1].set_xlabel('Epoch')\n",
    "    axes[1].legend(['Tr. Loss', 'Val. Loss'])\n",
    "    plt.title(title)\n",
    "    plt.tight_layout()\n",
    "    plt.show()"
   ],
   "outputs": [],
   "metadata": {}
  },
  {
   "cell_type": "code",
   "execution_count": 6,
   "source": [
    "# Do the data transformations...\n",
    "n_steps = 12\n",
    "lstm_X_train, lstm_y_train = split_sequence(y_train.values[:, 0], n_steps)\n",
    "lstm_X_test, lstm_y_test = split_sequence(y_test.values[:, 0], n_steps)\n",
    "lstm_X_train.shape, lstm_y_train.shape, lstm_X_test.shape, lstm_y_test.shape"
   ],
   "outputs": [
    {
     "output_type": "execute_result",
     "data": {
      "text/plain": [
       "((204, 12), (204,), (108, 12), (108,))"
      ]
     },
     "metadata": {},
     "execution_count": 6
    }
   ],
   "metadata": {}
  },
  {
   "cell_type": "code",
   "execution_count": 13,
   "source": [
    "# Reshape from (samples, timesteps) to (samples, timesteps, features)\n",
    "n_features = 1\n",
    "lstm_X_train = lstm_X_train.reshape((lstm_X_train.shape[0], lstm_X_train.shape[1], n_features))\n",
    "lstm_X_test = lstm_X_test.reshape((lstm_X_test.shape[0], lstm_X_test.shape[1], n_features))"
   ],
   "outputs": [],
   "metadata": {}
  },
  {
   "cell_type": "markdown",
   "source": [
    "## Vanilla LSTMs\n",
    "\n",
    "Consists of a single, hidden layer of LSTM units and an output layer to make the prediction."
   ],
   "metadata": {}
  },
  {
   "cell_type": "code",
   "execution_count": 14,
   "source": [
    "# Define the model.\n",
    "lstm = tf.keras.models.Sequential()\n",
    "lstm.add(tf.keras.layers.LSTM(50, activation='relu', input_shape=(n_steps, n_features)))\n",
    "lstm.add(tf.keras.layers.Dense(1))\n",
    "lstm.compile(optimizer='adam', loss='mse', metrics='accuracy')\n",
    "lstm.summary()"
   ],
   "outputs": [
    {
     "output_type": "stream",
     "name": "stdout",
     "text": [
      "Model: \"sequential_2\"\n",
      "_________________________________________________________________\n",
      "Layer (type)                 Output Shape              Param #   \n",
      "=================================================================\n",
      "lstm_1 (LSTM)                (None, 50)                10400     \n",
      "_________________________________________________________________\n",
      "dense_3 (Dense)              (None, 1)                 51        \n",
      "=================================================================\n",
      "Total params: 10,451\n",
      "Trainable params: 10,451\n",
      "Non-trainable params: 0\n",
      "_________________________________________________________________\n"
     ]
    }
   ],
   "metadata": {}
  },
  {
   "cell_type": "code",
   "execution_count": 15,
   "source": [
    "history = lstm.fit(lstm_X_train, lstm_y_train, epochs=100, validation_data=(lstm_X_test, lstm_y_test), shuffle=False)\n",
    "graphHistory(history, 'Simple LSTM')"
   ],
   "outputs": [
    {
     "output_type": "stream",
     "name": "stdout",
     "text": [
      "Epoch 1/100\n",
      "3/7 [===========>..................] - ETA: 0s - loss: 16.6526 - accuracy: 0.0000e+00"
     ]
    },
    {
     "output_type": "stream",
     "name": "stderr",
     "text": [
      "/Users/davidmottice/Documents/AFIT/principal-try-2/project-env/lib/python3.8/site-packages/tensorflow/python/data/ops/dataset_ops.py:4211: UserWarning: Even though the `tf.config.experimental_run_functions_eagerly` option is set, this option does not apply to tf.data functions. To force eager execution of tf.data functions, please use `tf.data.experimental.enable_debug_mode()`.\n",
      "  warnings.warn(\n"
     ]
    },
    {
     "output_type": "stream",
     "name": "stdout",
     "text": [
      "7/7 [==============================] - 0s 39ms/step - loss: 18.5586 - accuracy: 0.0000e+00 - val_loss: 6.3481 - val_accuracy: 0.0000e+00\n",
      "Epoch 2/100\n",
      "7/7 [==============================] - 0s 37ms/step - loss: 18.3477 - accuracy: 0.0000e+00 - val_loss: 6.4047 - val_accuracy: 0.0000e+00\n",
      "Epoch 3/100\n",
      "7/7 [==============================] - 0s 36ms/step - loss: 18.2121 - accuracy: 0.0000e+00 - val_loss: 6.4650 - val_accuracy: 0.0000e+00\n",
      "Epoch 4/100\n",
      "7/7 [==============================] - 0s 35ms/step - loss: 18.1138 - accuracy: 0.0000e+00 - val_loss: 6.5156 - val_accuracy: 0.0000e+00\n",
      "Epoch 5/100\n",
      "7/7 [==============================] - 0s 35ms/step - loss: 18.0166 - accuracy: 0.0000e+00 - val_loss: 6.5532 - val_accuracy: 0.0000e+00\n",
      "Epoch 6/100\n",
      "7/7 [==============================] - 0s 36ms/step - loss: 17.9066 - accuracy: 0.0000e+00 - val_loss: 6.5860 - val_accuracy: 0.0000e+00\n",
      "Epoch 7/100\n",
      "7/7 [==============================] - 0s 35ms/step - loss: 17.7723 - accuracy: 0.0000e+00 - val_loss: 6.6230 - val_accuracy: 0.0000e+00\n",
      "Epoch 8/100\n",
      "7/7 [==============================] - 0s 35ms/step - loss: 17.5904 - accuracy: 0.0000e+00 - val_loss: 6.6628 - val_accuracy: 0.0000e+00\n",
      "Epoch 9/100\n",
      "7/7 [==============================] - 0s 37ms/step - loss: 17.3386 - accuracy: 0.0000e+00 - val_loss: 6.6818 - val_accuracy: 0.0000e+00\n",
      "Epoch 10/100\n",
      "7/7 [==============================] - 0s 37ms/step - loss: 17.0848 - accuracy: 0.0000e+00 - val_loss: 6.6087 - val_accuracy: 0.0000e+00\n",
      "Epoch 11/100\n",
      "7/7 [==============================] - 0s 36ms/step - loss: 16.9415 - accuracy: 0.0000e+00 - val_loss: 6.4850 - val_accuracy: 0.0000e+00\n",
      "Epoch 12/100\n",
      "7/7 [==============================] - 0s 35ms/step - loss: 16.6282 - accuracy: 0.0000e+00 - val_loss: 6.4599 - val_accuracy: 0.0000e+00\n",
      "Epoch 13/100\n",
      "7/7 [==============================] - 0s 35ms/step - loss: 16.7731 - accuracy: 0.0000e+00 - val_loss: 6.3789 - val_accuracy: 0.0000e+00\n",
      "Epoch 14/100\n",
      "7/7 [==============================] - 0s 34ms/step - loss: 16.2060 - accuracy: 0.0000e+00 - val_loss: 6.3969 - val_accuracy: 0.0000e+00\n",
      "Epoch 15/100\n",
      "7/7 [==============================] - 0s 35ms/step - loss: 16.4760 - accuracy: 0.0000e+00 - val_loss: 6.3172 - val_accuracy: 0.0000e+00\n",
      "Epoch 16/100\n",
      "7/7 [==============================] - 0s 34ms/step - loss: 16.2853 - accuracy: 0.0000e+00 - val_loss: 6.3271 - val_accuracy: 0.0000e+00\n",
      "Epoch 17/100\n",
      "7/7 [==============================] - 0s 34ms/step - loss: 15.8504 - accuracy: 0.0000e+00 - val_loss: 6.4056 - val_accuracy: 0.0000e+00\n",
      "Epoch 18/100\n",
      "7/7 [==============================] - 0s 34ms/step - loss: 15.8724 - accuracy: 0.0000e+00 - val_loss: 6.3951 - val_accuracy: 0.0000e+00\n",
      "Epoch 19/100\n",
      "7/7 [==============================] - 0s 34ms/step - loss: 15.5732 - accuracy: 0.0000e+00 - val_loss: 6.2850 - val_accuracy: 0.0000e+00\n",
      "Epoch 20/100\n",
      "7/7 [==============================] - 0s 34ms/step - loss: 15.1099 - accuracy: 0.0000e+00 - val_loss: 6.2661 - val_accuracy: 0.0000e+00\n",
      "Epoch 21/100\n",
      "7/7 [==============================] - 0s 34ms/step - loss: 15.0506 - accuracy: 0.0000e+00 - val_loss: 6.2352 - val_accuracy: 0.0000e+00\n",
      "Epoch 22/100\n",
      "7/7 [==============================] - 0s 34ms/step - loss: 14.5387 - accuracy: 0.0000e+00 - val_loss: 6.2535 - val_accuracy: 0.0000e+00\n",
      "Epoch 23/100\n",
      "7/7 [==============================] - 0s 34ms/step - loss: 14.8000 - accuracy: 0.0000e+00 - val_loss: 6.2806 - val_accuracy: 0.0000e+00\n",
      "Epoch 24/100\n",
      "7/7 [==============================] - 0s 34ms/step - loss: 14.2068 - accuracy: 0.0000e+00 - val_loss: 6.2603 - val_accuracy: 0.0000e+00\n",
      "Epoch 25/100\n",
      "7/7 [==============================] - 0s 33ms/step - loss: 14.1669 - accuracy: 0.0000e+00 - val_loss: 6.3146 - val_accuracy: 0.0000e+00\n",
      "Epoch 26/100\n",
      "7/7 [==============================] - 0s 34ms/step - loss: 13.4195 - accuracy: 0.0000e+00 - val_loss: 6.4048 - val_accuracy: 0.0000e+00\n",
      "Epoch 27/100\n",
      "7/7 [==============================] - 0s 36ms/step - loss: 13.1287 - accuracy: 0.0000e+00 - val_loss: 6.5967 - val_accuracy: 0.0000e+00\n",
      "Epoch 28/100\n",
      "7/7 [==============================] - 0s 34ms/step - loss: 12.3736 - accuracy: 0.0000e+00 - val_loss: 6.4271 - val_accuracy: 0.0000e+00\n",
      "Epoch 29/100\n",
      "7/7 [==============================] - 0s 35ms/step - loss: 11.7600 - accuracy: 0.0000e+00 - val_loss: 6.3142 - val_accuracy: 0.0000e+00\n",
      "Epoch 30/100\n",
      "7/7 [==============================] - 0s 35ms/step - loss: 16.1116 - accuracy: 0.0000e+00 - val_loss: 7.0246 - val_accuracy: 0.0000e+00\n",
      "Epoch 31/100\n",
      "7/7 [==============================] - 0s 34ms/step - loss: 14.3906 - accuracy: 0.0000e+00 - val_loss: 6.2129 - val_accuracy: 0.0000e+00\n",
      "Epoch 32/100\n",
      "7/7 [==============================] - 0s 34ms/step - loss: 12.9277 - accuracy: 0.0000e+00 - val_loss: 6.3912 - val_accuracy: 0.0000e+00\n",
      "Epoch 33/100\n",
      "7/7 [==============================] - 0s 35ms/step - loss: 13.2667 - accuracy: 0.0000e+00 - val_loss: 6.3823 - val_accuracy: 0.0000e+00\n",
      "Epoch 34/100\n",
      "7/7 [==============================] - 0s 35ms/step - loss: 12.2956 - accuracy: 0.0000e+00 - val_loss: 6.2822 - val_accuracy: 0.0000e+00\n",
      "Epoch 35/100\n",
      "7/7 [==============================] - 0s 35ms/step - loss: 11.5003 - accuracy: 0.0000e+00 - val_loss: 6.3328 - val_accuracy: 0.0000e+00\n",
      "Epoch 36/100\n",
      "7/7 [==============================] - 0s 35ms/step - loss: 10.9671 - accuracy: 0.0000e+00 - val_loss: 6.2918 - val_accuracy: 0.0000e+00\n",
      "Epoch 37/100\n",
      "7/7 [==============================] - 0s 34ms/step - loss: 10.4531 - accuracy: 0.0000e+00 - val_loss: 6.2570 - val_accuracy: 0.0000e+00\n",
      "Epoch 38/100\n",
      "7/7 [==============================] - 0s 34ms/step - loss: 10.0588 - accuracy: 0.0000e+00 - val_loss: 6.2635 - val_accuracy: 0.0000e+00\n",
      "Epoch 39/100\n",
      "7/7 [==============================] - 0s 34ms/step - loss: 9.8315 - accuracy: 0.0000e+00 - val_loss: 6.2348 - val_accuracy: 0.0000e+00\n",
      "Epoch 40/100\n",
      "7/7 [==============================] - 0s 35ms/step - loss: 9.5501 - accuracy: 0.0000e+00 - val_loss: 6.1882 - val_accuracy: 0.0000e+00\n",
      "Epoch 41/100\n",
      "7/7 [==============================] - 0s 34ms/step - loss: 9.5170 - accuracy: 0.0000e+00 - val_loss: 6.2440 - val_accuracy: 0.0000e+00\n",
      "Epoch 42/100\n",
      "7/7 [==============================] - 0s 35ms/step - loss: 9.7023 - accuracy: 0.0000e+00 - val_loss: 6.1144 - val_accuracy: 0.0000e+00\n",
      "Epoch 43/100\n",
      "7/7 [==============================] - 0s 34ms/step - loss: 9.3165 - accuracy: 0.0000e+00 - val_loss: 6.5142 - val_accuracy: 0.0000e+00\n",
      "Epoch 44/100\n",
      "7/7 [==============================] - 0s 35ms/step - loss: 9.2402 - accuracy: 0.0000e+00 - val_loss: 6.1290 - val_accuracy: 0.0000e+00\n",
      "Epoch 45/100\n",
      "7/7 [==============================] - 0s 35ms/step - loss: 9.7684 - accuracy: 0.0000e+00 - val_loss: 6.2704 - val_accuracy: 0.0000e+00\n",
      "Epoch 46/100\n",
      "7/7 [==============================] - 0s 34ms/step - loss: 9.0977 - accuracy: 0.0000e+00 - val_loss: 6.2493 - val_accuracy: 0.0000e+00\n",
      "Epoch 47/100\n",
      "7/7 [==============================] - 0s 35ms/step - loss: 9.0225 - accuracy: 0.0000e+00 - val_loss: 6.3575 - val_accuracy: 0.0000e+00\n",
      "Epoch 48/100\n",
      "7/7 [==============================] - 0s 34ms/step - loss: 8.7551 - accuracy: 0.0000e+00 - val_loss: 6.4455 - val_accuracy: 0.0000e+00\n",
      "Epoch 49/100\n",
      "7/7 [==============================] - 0s 34ms/step - loss: 8.6072 - accuracy: 0.0000e+00 - val_loss: 6.4210 - val_accuracy: 0.0000e+00\n",
      "Epoch 50/100\n",
      "7/7 [==============================] - 0s 34ms/step - loss: 8.5223 - accuracy: 0.0000e+00 - val_loss: 6.3645 - val_accuracy: 0.0000e+00\n",
      "Epoch 51/100\n",
      "7/7 [==============================] - 0s 34ms/step - loss: 8.4161 - accuracy: 0.0000e+00 - val_loss: 6.3108 - val_accuracy: 0.0000e+00\n",
      "Epoch 52/100\n",
      "7/7 [==============================] - 0s 34ms/step - loss: 8.4287 - accuracy: 0.0000e+00 - val_loss: 6.5006 - val_accuracy: 0.0000e+00\n",
      "Epoch 53/100\n",
      "7/7 [==============================] - 0s 38ms/step - loss: 8.4016 - accuracy: 0.0000e+00 - val_loss: 6.5246 - val_accuracy: 0.0000e+00\n",
      "Epoch 54/100\n",
      "7/7 [==============================] - 0s 34ms/step - loss: 10.1739 - accuracy: 0.0000e+00 - val_loss: 6.1951 - val_accuracy: 0.0000e+00\n",
      "Epoch 55/100\n",
      "7/7 [==============================] - 0s 34ms/step - loss: 10.8991 - accuracy: 0.0000e+00 - val_loss: 6.0267 - val_accuracy: 0.0000e+00\n",
      "Epoch 56/100\n",
      "7/7 [==============================] - 0s 35ms/step - loss: 9.6000 - accuracy: 0.0000e+00 - val_loss: 6.1419 - val_accuracy: 0.0000e+00\n",
      "Epoch 57/100\n",
      "7/7 [==============================] - 0s 34ms/step - loss: 9.4071 - accuracy: 0.0000e+00 - val_loss: 6.1985 - val_accuracy: 0.0000e+00\n",
      "Epoch 58/100\n",
      "7/7 [==============================] - 0s 35ms/step - loss: 8.8866 - accuracy: 0.0000e+00 - val_loss: 6.4988 - val_accuracy: 0.0000e+00\n",
      "Epoch 59/100\n",
      "7/7 [==============================] - 0s 34ms/step - loss: 8.9013 - accuracy: 0.0000e+00 - val_loss: 6.0869 - val_accuracy: 0.0000e+00\n",
      "Epoch 60/100\n",
      "7/7 [==============================] - 0s 35ms/step - loss: 8.6118 - accuracy: 0.0000e+00 - val_loss: 6.3856 - val_accuracy: 0.0000e+00\n",
      "Epoch 61/100\n",
      "7/7 [==============================] - 0s 34ms/step - loss: 8.3067 - accuracy: 0.0000e+00 - val_loss: 6.6270 - val_accuracy: 0.0000e+00\n",
      "Epoch 62/100\n",
      "7/7 [==============================] - 0s 34ms/step - loss: 8.1112 - accuracy: 0.0000e+00 - val_loss: 6.1989 - val_accuracy: 0.0000e+00\n",
      "Epoch 63/100\n",
      "7/7 [==============================] - 0s 34ms/step - loss: 7.9342 - accuracy: 0.0000e+00 - val_loss: 6.4227 - val_accuracy: 0.0000e+00\n",
      "Epoch 64/100\n",
      "7/7 [==============================] - 0s 34ms/step - loss: 7.8049 - accuracy: 0.0000e+00 - val_loss: 6.2861 - val_accuracy: 0.0000e+00\n",
      "Epoch 65/100\n",
      "7/7 [==============================] - 0s 36ms/step - loss: 7.6746 - accuracy: 0.0000e+00 - val_loss: 6.2325 - val_accuracy: 0.0000e+00\n",
      "Epoch 66/100\n",
      "7/7 [==============================] - 0s 35ms/step - loss: 7.4765 - accuracy: 0.0000e+00 - val_loss: 6.2661 - val_accuracy: 0.0000e+00\n",
      "Epoch 67/100\n",
      "7/7 [==============================] - 0s 34ms/step - loss: 7.4142 - accuracy: 0.0000e+00 - val_loss: 6.2454 - val_accuracy: 0.0000e+00\n",
      "Epoch 68/100\n",
      "7/7 [==============================] - 0s 35ms/step - loss: 7.3611 - accuracy: 0.0000e+00 - val_loss: 6.2809 - val_accuracy: 0.0000e+00\n",
      "Epoch 69/100\n",
      "7/7 [==============================] - 0s 35ms/step - loss: 7.2333 - accuracy: 0.0000e+00 - val_loss: 6.2709 - val_accuracy: 0.0000e+00\n",
      "Epoch 70/100\n",
      "7/7 [==============================] - 0s 35ms/step - loss: 7.1374 - accuracy: 0.0000e+00 - val_loss: 6.3940 - val_accuracy: 0.0000e+00\n",
      "Epoch 71/100\n",
      "7/7 [==============================] - 0s 35ms/step - loss: 7.4014 - accuracy: 0.0000e+00 - val_loss: 6.1386 - val_accuracy: 0.0000e+00\n",
      "Epoch 72/100\n",
      "7/7 [==============================] - 0s 34ms/step - loss: 7.3606 - accuracy: 0.0000e+00 - val_loss: 6.5128 - val_accuracy: 0.0000e+00\n",
      "Epoch 73/100\n",
      "7/7 [==============================] - 0s 35ms/step - loss: 7.4399 - accuracy: 0.0000e+00 - val_loss: 6.1184 - val_accuracy: 0.0000e+00\n",
      "Epoch 74/100\n",
      "7/7 [==============================] - 0s 35ms/step - loss: 7.0300 - accuracy: 0.0000e+00 - val_loss: 6.3623 - val_accuracy: 0.0000e+00\n",
      "Epoch 75/100\n",
      "7/7 [==============================] - 0s 35ms/step - loss: 6.7575 - accuracy: 0.0000e+00 - val_loss: 6.2121 - val_accuracy: 0.0000e+00\n",
      "Epoch 76/100\n",
      "7/7 [==============================] - 0s 34ms/step - loss: 6.5757 - accuracy: 0.0000e+00 - val_loss: 6.2817 - val_accuracy: 0.0000e+00\n",
      "Epoch 77/100\n",
      "7/7 [==============================] - 0s 34ms/step - loss: 6.3706 - accuracy: 0.0000e+00 - val_loss: 6.2671 - val_accuracy: 0.0000e+00\n",
      "Epoch 78/100\n",
      "7/7 [==============================] - 0s 34ms/step - loss: 6.2485 - accuracy: 0.0000e+00 - val_loss: 6.3488 - val_accuracy: 0.0000e+00\n",
      "Epoch 79/100\n",
      "7/7 [==============================] - 0s 34ms/step - loss: 6.2824 - accuracy: 0.0000e+00 - val_loss: 6.2726 - val_accuracy: 0.0000e+00\n",
      "Epoch 80/100\n",
      "7/7 [==============================] - 0s 35ms/step - loss: 6.2822 - accuracy: 0.0000e+00 - val_loss: 6.4281 - val_accuracy: 0.0000e+00\n",
      "Epoch 81/100\n",
      "7/7 [==============================] - 0s 33ms/step - loss: 6.1524 - accuracy: 0.0000e+00 - val_loss: 6.4673 - val_accuracy: 0.0000e+00\n",
      "Epoch 82/100\n",
      "7/7 [==============================] - 0s 34ms/step - loss: 5.8284 - accuracy: 0.0000e+00 - val_loss: 6.3680 - val_accuracy: 0.0000e+00\n",
      "Epoch 83/100\n",
      "7/7 [==============================] - 0s 36ms/step - loss: 5.6840 - accuracy: 0.0000e+00 - val_loss: 6.4844 - val_accuracy: 0.0000e+00\n",
      "Epoch 84/100\n",
      "7/7 [==============================] - 0s 35ms/step - loss: 5.7506 - accuracy: 0.0000e+00 - val_loss: 6.3844 - val_accuracy: 0.0000e+00\n",
      "Epoch 85/100\n",
      "7/7 [==============================] - 0s 35ms/step - loss: 6.9120 - accuracy: 0.0000e+00 - val_loss: 6.4051 - val_accuracy: 0.0000e+00\n",
      "Epoch 86/100\n",
      "7/7 [==============================] - 0s 34ms/step - loss: 5.9765 - accuracy: 0.0000e+00 - val_loss: 6.9550 - val_accuracy: 0.0000e+00\n",
      "Epoch 87/100\n",
      "7/7 [==============================] - 0s 34ms/step - loss: 5.7603 - accuracy: 0.0000e+00 - val_loss: 6.4068 - val_accuracy: 0.0000e+00\n",
      "Epoch 88/100\n",
      "7/7 [==============================] - 0s 34ms/step - loss: 5.6267 - accuracy: 0.0000e+00 - val_loss: 6.5615 - val_accuracy: 0.0000e+00\n",
      "Epoch 89/100\n",
      "7/7 [==============================] - 0s 34ms/step - loss: 5.3152 - accuracy: 0.0000e+00 - val_loss: 6.6893 - val_accuracy: 0.0000e+00\n",
      "Epoch 90/100\n",
      "7/7 [==============================] - 0s 34ms/step - loss: 5.4817 - accuracy: 0.0000e+00 - val_loss: 6.9579 - val_accuracy: 0.0000e+00\n",
      "Epoch 91/100\n",
      "7/7 [==============================] - 0s 34ms/step - loss: 5.7823 - accuracy: 0.0000e+00 - val_loss: 6.6009 - val_accuracy: 0.0000e+00\n",
      "Epoch 92/100\n",
      "7/7 [==============================] - 0s 35ms/step - loss: 5.3156 - accuracy: 0.0000e+00 - val_loss: 6.6317 - val_accuracy: 0.0000e+00\n",
      "Epoch 93/100\n",
      "7/7 [==============================] - 0s 34ms/step - loss: 5.5211 - accuracy: 0.0000e+00 - val_loss: 6.6908 - val_accuracy: 0.0000e+00\n",
      "Epoch 94/100\n",
      "7/7 [==============================] - 0s 35ms/step - loss: 5.5124 - accuracy: 0.0000e+00 - val_loss: 6.7498 - val_accuracy: 0.0000e+00\n",
      "Epoch 95/100\n",
      "7/7 [==============================] - 0s 35ms/step - loss: 4.8994 - accuracy: 0.0000e+00 - val_loss: 6.8194 - val_accuracy: 0.0000e+00\n",
      "Epoch 96/100\n",
      "7/7 [==============================] - 0s 35ms/step - loss: 4.8094 - accuracy: 0.0000e+00 - val_loss: 6.7182 - val_accuracy: 0.0000e+00\n",
      "Epoch 97/100\n",
      "7/7 [==============================] - 0s 34ms/step - loss: 4.7144 - accuracy: 0.0000e+00 - val_loss: 7.0085 - val_accuracy: 0.0000e+00\n",
      "Epoch 98/100\n",
      "7/7 [==============================] - 0s 33ms/step - loss: 4.6156 - accuracy: 0.0000e+00 - val_loss: 6.9435 - val_accuracy: 0.0000e+00\n",
      "Epoch 99/100\n",
      "7/7 [==============================] - 0s 34ms/step - loss: 4.5460 - accuracy: 0.0000e+00 - val_loss: 7.0777 - val_accuracy: 0.0000e+00\n",
      "Epoch 100/100\n",
      "7/7 [==============================] - 0s 34ms/step - loss: 4.5035 - accuracy: 0.0000e+00 - val_loss: 7.1613 - val_accuracy: 0.0000e+00\n"
     ]
    },
    {
     "output_type": "display_data",
     "data": {
      "image/png": "[encoded data removed]",
      "text/plain": [
       "<Figure size 864x432 with 2 Axes>"
      ]
     },
     "metadata": {
      "needs_background": "light"
     }
    }
   ],
   "metadata": {}
  },
  {
   "cell_type": "code",
   "execution_count": null,
   "source": [],
   "outputs": [],
   "metadata": {}
  }
 ],
 "metadata": {
  "orig_nbformat": 4,
  "language_info": {
   "name": "python",
   "version": "3.8.3",
   "mimetype": "text/x-python",
   "codemirror_mode": {
    "name": "ipython",
    "version": 3
   },
   "pygments_lexer": "ipython3",
   "nbconvert_exporter": "python",
   "file_extension": ".py"
  },
  "kernelspec": {
   "name": "python3",
   "display_name": "Python 3.8.3 64-bit ('project-env': venv)"
  },
  "interpreter": {
   "hash": "d13373dd3c7c2384c9c35d05f5096fd112f2e7fb5ec64c9f55217b2d4ec34c87"
  }
 },
 "nbformat": 4,
 "nbformat_minor": 2
}